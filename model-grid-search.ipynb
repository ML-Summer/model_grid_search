{
 "cells": [
  {
   "cell_type": "code",
   "execution_count": 1,
   "id": "88df7978",
   "metadata": {
    "_cell_guid": "b1076dfc-b9ad-4769-8c92-a6c4dae69d19",
    "_uuid": "8f2839f25d086af736a60e9eeb907d3b93b6e0e5",
    "execution": {
     "iopub.execute_input": "2023-08-28T07:41:49.643486Z",
     "iopub.status.busy": "2023-08-28T07:41:49.643061Z",
     "iopub.status.idle": "2023-08-28T07:41:49.670067Z",
     "shell.execute_reply": "2023-08-28T07:41:49.668269Z"
    },
    "papermill": {
     "duration": 0.035991,
     "end_time": "2023-08-28T07:41:49.672614",
     "exception": false,
     "start_time": "2023-08-28T07:41:49.636623",
     "status": "completed"
    },
    "tags": []
   },
   "outputs": [
    {
     "name": "stdout",
     "output_type": "stream",
     "text": [
      "/kaggle/input/diabetes-health-indicators-dataset/diabetes_binary_5050split_health_indicators_BRFSS2015.csv\n",
      "/kaggle/input/diabetes-health-indicators-dataset/diabetes_binary_health_indicators_BRFSS2015.csv\n",
      "/kaggle/input/diabetes-health-indicators-dataset/diabetes_012_health_indicators_BRFSS2015.csv\n"
     ]
    }
   ],
   "source": [
    "# This Python 3 environment comes with many helpful analytics libraries installed\n",
    "# It is defined by the kaggle/python Docker image: https://github.com/kaggle/docker-python\n",
    "# For example, here's several helpful packages to load\n",
    "\n",
    "import numpy as np # linear algebra\n",
    "import pandas as pd # data processing, CSV file I/O (e.g. pd.read_csv)\n",
    "\n",
    "# Input data files are available in the read-only \"../input/\" directory\n",
    "# For example, running this (by clicking run or pressing Shift+Enter) will list all files under the input directory\n",
    "\n",
    "import os\n",
    "for dirname, _, filenames in os.walk('/kaggle/input'):\n",
    "    for filename in filenames:\n",
    "        print(os.path.join(dirname, filename))\n",
    "\n",
    "# You can write up to 20GB to the current directory (/kaggle/working/) that gets preserved as output when you create a version using \"Save & Run All\" \n",
    "# You can also write temporary files to /kaggle/temp/, but they won't be saved outside of the current session"
   ]
  },
  {
   "cell_type": "markdown",
   "id": "6e8f130e",
   "metadata": {
    "papermill": {
     "duration": 0.003745,
     "end_time": "2023-08-28T07:41:49.680719",
     "exception": false,
     "start_time": "2023-08-28T07:41:49.676974",
     "status": "completed"
    },
    "tags": []
   },
   "source": [
    "# Data preparation\n",
    "\n",
    "## Changing continuous feature into a bunch of binary ones (continuous -> categories -> one hot encoding)"
   ]
  },
  {
   "cell_type": "markdown",
   "id": "4f4def93",
   "metadata": {
    "papermill": {
     "duration": 0.003632,
     "end_time": "2023-08-28T07:41:49.688313",
     "exception": false,
     "start_time": "2023-08-28T07:41:49.684681",
     "status": "completed"
    },
    "tags": []
   },
   "source": [
    "### Module imports"
   ]
  },
  {
   "cell_type": "code",
   "execution_count": 2,
   "id": "acacc5e9",
   "metadata": {
    "execution": {
     "iopub.execute_input": "2023-08-28T07:41:49.697811Z",
     "iopub.status.busy": "2023-08-28T07:41:49.697403Z",
     "iopub.status.idle": "2023-08-28T07:41:50.929540Z",
     "shell.execute_reply": "2023-08-28T07:41:50.928363Z"
    },
    "papermill": {
     "duration": 1.239957,
     "end_time": "2023-08-28T07:41:50.932179",
     "exception": false,
     "start_time": "2023-08-28T07:41:49.692222",
     "status": "completed"
    },
    "tags": []
   },
   "outputs": [
    {
     "name": "stderr",
     "output_type": "stream",
     "text": [
      "/opt/conda/lib/python3.10/site-packages/scipy/__init__.py:146: UserWarning: A NumPy version >=1.16.5 and <1.23.0 is required for this version of SciPy (detected version 1.23.5\n",
      "  warnings.warn(f\"A NumPy version >={np_minversion} and <{np_maxversion}\"\n"
     ]
    }
   ],
   "source": [
    "from sklearn.preprocessing import OneHotEncoder\n",
    "from pandas import DataFrame, Series\n",
    "from typing import Union, Literal\n",
    "from math import sqrt, ceil"
   ]
  },
  {
   "cell_type": "markdown",
   "id": "8ff374c1",
   "metadata": {
    "papermill": {
     "duration": 0.003919,
     "end_time": "2023-08-28T07:41:50.940420",
     "exception": false,
     "start_time": "2023-08-28T07:41:50.936501",
     "status": "completed"
    },
    "tags": []
   },
   "source": [
    "### Continuous -> discrete"
   ]
  },
  {
   "cell_type": "code",
   "execution_count": 3,
   "id": "ab0e6de3",
   "metadata": {
    "execution": {
     "iopub.execute_input": "2023-08-28T07:41:50.950708Z",
     "iopub.status.busy": "2023-08-28T07:41:50.950329Z",
     "iopub.status.idle": "2023-08-28T07:41:50.965785Z",
     "shell.execute_reply": "2023-08-28T07:41:50.964536Z"
    },
    "papermill": {
     "duration": 0.023577,
     "end_time": "2023-08-28T07:41:50.968188",
     "exception": false,
     "start_time": "2023-08-28T07:41:50.944611",
     "status": "completed"
    },
    "tags": []
   },
   "outputs": [],
   "source": [
    "def determineBin(value: float|int, bin_lower_bounds: list) -> int|None:\n",
    "    \"\"\"\n",
    "    Determines which bin the passed value fits into.\n",
    "    \n",
    "    Parameters\n",
    "    ---\n",
    "    - `value`: a numeric value to be labeled.\n",
    "    - `bin_lower_bounds`: a list of histogram bin lower bounds.\n",
    "\n",
    "    Example\n",
    "    ---\n",
    "    For these three bins:\n",
    "        - 1.5 - 1.99\n",
    "        - 2.0 - 2.49\n",
    "        - 2.5 - 2.99\n",
    "\n",
    "    bin lower bounds list would be `[1.5, 2.0, 2.5]`.\n",
    "    \"\"\"\n",
    "    first_bin_lower_bound = bin_lower_bounds[0]\n",
    "    if value < first_bin_lower_bound:\n",
    "        return None\n",
    "    last_bin_lower_bound = bin_lower_bounds[-1]\n",
    "    if value > last_bin_lower_bound:\n",
    "        last_bin_index = len(bin_lower_bounds)\n",
    "        return last_bin_index\n",
    "    for bin_index, bin_lower_bound in enumerate(bin_lower_bounds):\n",
    "        if value < bin_lower_bound:\n",
    "            return bin_index\n",
    "\n",
    "def roundUpToAccuracy(value: float, multiple: float) -> float:\n",
    "    return multiple * round(value / multiple)\n",
    "\n",
    "def convertContinuousVariableIntoBins(feature: Series, measure_accuracy: float, bin_num: Literal[\"auto\"]|int = \"auto\") -> None:\n",
    "    \"\"\"\n",
    "    Converts continuous value vector into a vector histogram bin indices that each value fits into.\n",
    "\n",
    "    Parameters\n",
    "    ---\n",
    "    - `feature`: a pandas.Series object that contains feature's value vector.\n",
    "    - `measure_accuracy` - the lowest value that could be measured in feature, e.g. for value vector `[1.2, 1.3, 3.4, 2.1]` measure accuracy would be `0.1` and for vector `[1.5, 3.5, 0.5, 15.0]` measure accuracy would be `0.5`.\n",
    "    \"\"\"\n",
    "    amount_of_values = len(feature)\n",
    "    if amount_of_values == 0:\n",
    "        raise ValueError(\"Feature vector is empty.\")\n",
    "    estimated_bin_amount = int(sqrt(amount_of_values))\n",
    "    min_bin_amount = 5\n",
    "    max_bin_amount = 30\n",
    "    bin_amount: int = 0\n",
    "    def determineBinAmount(min_bin_amount: int, estimated_bin_amount: int, max_bin_amount: int) -> int:\n",
    "        if estimated_bin_amount < min_bin_amount:\n",
    "            return min_bin_amount\n",
    "        if estimated_bin_amount > max_bin_amount:\n",
    "            return max_bin_amount\n",
    "        return estimated_bin_amount\n",
    "    bin_amount = determineBinAmount(min_bin_amount, estimated_bin_amount, max_bin_amount) if bin_num == \"auto\" else bin_num\n",
    "    range_length = max(feature) - min(feature)\n",
    "    bin_length = roundUpToAccuracy(range_length / bin_amount, measure_accuracy)\n",
    "    first_bin_lower_bound_offset = ((bin_amount * bin_length) - range_length) /2\n",
    "    first_bin_lower_bound = min(feature) - first_bin_lower_bound_offset\n",
    "    bin_lower_bounds = [None] * bin_amount #appending values in loop is a bad practice\n",
    "    for bin_bound_number, _ in enumerate(bin_lower_bounds):\n",
    "        bin_lower_bounds[bin_bound_number] = first_bin_lower_bound + bin_bound_number * bin_length\n",
    "    for sample_index, sample_feature_value in enumerate(feature):\n",
    "        feature[sample_index] = determineBin(sample_feature_value, bin_lower_bounds)\n",
    "    feature = feature.astype(\"category\")\n",
    "    "
   ]
  },
  {
   "cell_type": "markdown",
   "id": "e13ff0ad",
   "metadata": {
    "papermill": {
     "duration": 0.004101,
     "end_time": "2023-08-28T07:41:50.976505",
     "exception": false,
     "start_time": "2023-08-28T07:41:50.972404",
     "status": "completed"
    },
    "tags": []
   },
   "source": [
    "### Discrete -> one-hot encoded"
   ]
  },
  {
   "cell_type": "code",
   "execution_count": 4,
   "id": "83e47909",
   "metadata": {
    "execution": {
     "iopub.execute_input": "2023-08-28T07:41:50.987140Z",
     "iopub.status.busy": "2023-08-28T07:41:50.986668Z",
     "iopub.status.idle": "2023-08-28T07:41:50.995707Z",
     "shell.execute_reply": "2023-08-28T07:41:50.994452Z"
    },
    "papermill": {
     "duration": 0.017272,
     "end_time": "2023-08-28T07:41:50.998018",
     "exception": false,
     "start_time": "2023-08-28T07:41:50.980746",
     "status": "completed"
    },
    "tags": []
   },
   "outputs": [],
   "source": [
    "def oneHotEncodeContinousVariable(dataset: DataFrame, feature_column_name: str) -> DataFrame:\n",
    "    \"\"\"\n",
    "    Converts continuous feature vector in dataset into series of one hot encoded categories; every column should hold data for only one feature.\n",
    "    ---\n",
    "    Parameters:\n",
    "    \n",
    "    - `dataset`: DataFrame that contains feature to be converted.\n",
    "    - `feature_column_index`: index of feature's column.\n",
    "    \n",
    "    Returns:\n",
    "    \n",
    "    A DataFrame with selected feature categorized and one hot encoded.\n",
    "    \"\"\"\n",
    "    dataset_has_correct_type: bool = isinstance(dataset, DataFrame)\n",
    "    if not dataset_has_correct_type:\n",
    "        dataset_type_name = type(dataset)\n",
    "        raise TypeError(\"Dataset has incorrect type; use pandas.DataFrame.\")\n",
    "    try:\n",
    "        dataset[feature_column_name]\n",
    "    except KeyError:\n",
    "        raise IndexError(f\"Incorrect feature column name: {feature_column_name}\")\n",
    "    convertContinuousVariableIntoBins(feature = dataset[feature_column_name], measure_accuracy = 1.0)\n",
    "    encoder = OneHotEncoder(sparse_output = False)\n",
    "    feature_encoded = DataFrame(encoder.fit_transform(dataset[[feature_column_name]]))\n",
    "    feature_encoded.columns = encoder.get_feature_names_out([feature_column_name])\n",
    "    dataset.drop([feature_column_name], axis = 1, inplace = True)\n",
    "    return (pd.concat([dataset, feature_encoded], axis=1))"
   ]
  },
  {
   "cell_type": "code",
   "execution_count": 5,
   "id": "3377b5ab",
   "metadata": {
    "execution": {
     "iopub.execute_input": "2023-08-28T07:41:51.008126Z",
     "iopub.status.busy": "2023-08-28T07:41:51.007679Z",
     "iopub.status.idle": "2023-08-28T07:41:58.452180Z",
     "shell.execute_reply": "2023-08-28T07:41:58.450784Z"
    },
    "papermill": {
     "duration": 7.452993,
     "end_time": "2023-08-28T07:41:58.455255",
     "exception": false,
     "start_time": "2023-08-28T07:41:51.002262",
     "status": "completed"
    },
    "tags": []
   },
   "outputs": [
    {
     "name": "stdout",
     "output_type": "stream",
     "text": [
      "   Diabetes_binary  HighBP  HighChol  CholCheck  Smoker  Stroke  \\\n",
      "0              0.0     1.0       0.0        1.0     0.0     0.0   \n",
      "1              0.0     1.0       1.0        1.0     1.0     1.0   \n",
      "2              0.0     0.0       0.0        1.0     0.0     0.0   \n",
      "3              0.0     1.0       1.0        1.0     1.0     0.0   \n",
      "4              0.0     0.0       0.0        1.0     1.0     0.0   \n",
      "\n",
      "   HeartDiseaseorAttack  PhysActivity  Fruits  Veggies  ...  BMI_21.0  \\\n",
      "0                   0.0           1.0     0.0      1.0  ...       0.0   \n",
      "1                   0.0           0.0     1.0      0.0  ...       0.0   \n",
      "2                   0.0           1.0     1.0      1.0  ...       0.0   \n",
      "3                   0.0           1.0     1.0      1.0  ...       0.0   \n",
      "4                   0.0           1.0     1.0      1.0  ...       0.0   \n",
      "\n",
      "   BMI_22.0  BMI_23.0  BMI_24.0  BMI_25.0  BMI_26.0  BMI_27.0  BMI_28.0  \\\n",
      "0       0.0       0.0       0.0       0.0       0.0       0.0       0.0   \n",
      "1       0.0       0.0       0.0       0.0       0.0       0.0       0.0   \n",
      "2       0.0       0.0       0.0       0.0       0.0       0.0       0.0   \n",
      "3       0.0       0.0       0.0       0.0       0.0       0.0       0.0   \n",
      "4       0.0       0.0       0.0       0.0       0.0       0.0       0.0   \n",
      "\n",
      "   BMI_29.0  BMI_30.0  \n",
      "0       0.0       0.0  \n",
      "1       0.0       0.0  \n",
      "2       0.0       0.0  \n",
      "3       0.0       0.0  \n",
      "4       0.0       0.0  \n",
      "\n",
      "[5 rows x 51 columns]\n"
     ]
    }
   ],
   "source": [
    "# Data import and preprocessing\n",
    "\n",
    "diabetes_dataset_5050_split = pd.read_csv(\"/kaggle/input/diabetes-health-indicators-dataset/diabetes_binary_5050split_health_indicators_BRFSS2015.csv\")\n",
    "diabetes_dataset_5050_split_ohencoded = oneHotEncodeContinousVariable(diabetes_dataset_5050_split, \"BMI\")\n",
    "print(diabetes_dataset_5050_split_ohencoded.head())"
   ]
  },
  {
   "cell_type": "markdown",
   "id": "4463d2bb",
   "metadata": {
    "papermill": {
     "duration": 0.004538,
     "end_time": "2023-08-28T07:41:58.464328",
     "exception": false,
     "start_time": "2023-08-28T07:41:58.459790",
     "status": "completed"
    },
    "tags": []
   },
   "source": [
    "# PLAN OF WORK\n",
    "\n",
    "1. BMI ---> categorical (bins)\n",
    "2. scale data (StandardScaler)\n",
    "3. EDA:\n",
    "    - correlation etc.\n",
    "  \n"
   ]
  }
 ],
 "metadata": {
  "kernelspec": {
   "display_name": "Python 3",
   "language": "python",
   "name": "python3"
  },
  "language_info": {
   "codemirror_mode": {
    "name": "ipython",
    "version": 3
   },
   "file_extension": ".py",
   "mimetype": "text/x-python",
   "name": "python",
   "nbconvert_exporter": "python",
   "pygments_lexer": "ipython3",
   "version": "3.10.12"
  },
  "papermill": {
   "default_parameters": {},
   "duration": 23.899561,
   "end_time": "2023-08-28T07:42:01.441428",
   "environment_variables": {},
   "exception": null,
   "input_path": "__notebook__.ipynb",
   "output_path": "__notebook__.ipynb",
   "parameters": {},
   "start_time": "2023-08-28T07:41:37.541867",
   "version": "2.4.0"
  }
 },
 "nbformat": 4,
 "nbformat_minor": 5
}
