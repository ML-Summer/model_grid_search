{
 "cells": [
  {
   "cell_type": "code",
   "execution_count": 1,
   "id": "8d0d27c8",
   "metadata": {
    "_cell_guid": "b1076dfc-b9ad-4769-8c92-a6c4dae69d19",
    "_uuid": "8f2839f25d086af736a60e9eeb907d3b93b6e0e5",
    "execution": {
     "iopub.execute_input": "2023-08-28T11:41:38.956604Z",
     "iopub.status.busy": "2023-08-28T11:41:38.956156Z",
     "iopub.status.idle": "2023-08-28T11:41:38.979335Z",
     "shell.execute_reply": "2023-08-28T11:41:38.977494Z"
    },
    "papermill": {
     "duration": 0.038943,
     "end_time": "2023-08-28T11:41:38.982339",
     "exception": false,
     "start_time": "2023-08-28T11:41:38.943396",
     "status": "completed"
    },
    "tags": []
   },
   "outputs": [
    {
     "name": "stdout",
     "output_type": "stream",
     "text": [
      "/kaggle/input/diabetes-health-indicators-dataset/diabetes_binary_5050split_health_indicators_BRFSS2015.csv\n",
      "/kaggle/input/diabetes-health-indicators-dataset/diabetes_binary_health_indicators_BRFSS2015.csv\n",
      "/kaggle/input/diabetes-health-indicators-dataset/diabetes_012_health_indicators_BRFSS2015.csv\n"
     ]
    }
   ],
   "source": [
    "# This Python 3 environment comes with many helpful analytics libraries installed\n",
    "# It is defined by the kaggle/python Docker image: https://github.com/kaggle/docker-python\n",
    "# For example, here's several helpful packages to load\n",
    "\n",
    "import numpy as np # linear algebra\n",
    "import pandas as pd # data processing, CSV file I/O (e.g. pd.read_csv)\n",
    "\n",
    "# Input data files are available in the read-only \"../input/\" directory\n",
    "# For example, running this (by clicking run or pressing Shift+Enter) will list all files under the input directory\n",
    "\n",
    "import os\n",
    "for dirname, _, filenames in os.walk('/kaggle/input'):\n",
    "    for filename in filenames:\n",
    "        print(os.path.join(dirname, filename))\n",
    "\n",
    "# You can write up to 20GB to the current directory (/kaggle/working/) that gets preserved as output when you create a version using \"Save & Run All\" \n",
    "# You can also write temporary files to /kaggle/temp/, but they won't be saved outside of the current session"
   ]
  },
  {
   "cell_type": "markdown",
   "id": "976bcda8",
   "metadata": {
    "papermill": {
     "duration": 0.009326,
     "end_time": "2023-08-28T11:41:39.003473",
     "exception": false,
     "start_time": "2023-08-28T11:41:38.994147",
     "status": "completed"
    },
    "tags": []
   },
   "source": [
    "# PLAN OF WORK\n",
    "\n",
    "1. BMI ---> categorical (bins)\n",
    "2. EDA:\n",
    "    - check if there are any missing values\n",
    "    - check if data is balanced\n",
    "    - check correlation \n",
    "  \n",
    "  \n"
   ]
  },
  {
   "cell_type": "markdown",
   "id": "61f3bf01",
   "metadata": {
    "papermill": {
     "duration": 0.009434,
     "end_time": "2023-08-28T11:41:39.024312",
     "exception": false,
     "start_time": "2023-08-28T11:41:39.014878",
     "status": "completed"
    },
    "tags": []
   },
   "source": [
    "In this notebook we are using diabetes _ binary _ 5050split _ health _ indicators _ BRFSS2015.csv - a clean dataset of 70,692 survey responses to the CDC's BRFSS2015. It has an equal 50-50 split of respondents with no diabetes and with either prediabetes or diabetes. The target variable Diabetes_binary has 2 classes. 0 is for no diabetes, and 1 is for prediabetes or diabetes. This dataset has 21 feature variables and is balanced."
   ]
  },
  {
   "cell_type": "markdown",
   "id": "480deea1",
   "metadata": {
    "papermill": {
     "duration": 0.009322,
     "end_time": "2023-08-28T11:41:39.043607",
     "exception": false,
     "start_time": "2023-08-28T11:41:39.034285",
     "status": "completed"
    },
    "tags": []
   },
   "source": [
    "# Data preparation\n",
    "\n",
    "## Changing continuous feature into a bunch of binary ones (continuous -> categories -> one hot encoding)"
   ]
  },
  {
   "cell_type": "markdown",
   "id": "27212379",
   "metadata": {
    "papermill": {
     "duration": 0.009284,
     "end_time": "2023-08-28T11:41:39.062626",
     "exception": false,
     "start_time": "2023-08-28T11:41:39.053342",
     "status": "completed"
    },
    "tags": []
   },
   "source": [
    "### Module imports"
   ]
  },
  {
   "cell_type": "code",
   "execution_count": 2,
   "id": "e0022102",
   "metadata": {
    "execution": {
     "iopub.execute_input": "2023-08-28T11:41:39.085811Z",
     "iopub.status.busy": "2023-08-28T11:41:39.085384Z",
     "iopub.status.idle": "2023-08-28T11:41:40.429791Z",
     "shell.execute_reply": "2023-08-28T11:41:40.428261Z"
    },
    "papermill": {
     "duration": 1.358753,
     "end_time": "2023-08-28T11:41:40.432814",
     "exception": false,
     "start_time": "2023-08-28T11:41:39.074061",
     "status": "completed"
    },
    "tags": []
   },
   "outputs": [
    {
     "name": "stderr",
     "output_type": "stream",
     "text": [
      "/opt/conda/lib/python3.10/site-packages/scipy/__init__.py:146: UserWarning: A NumPy version >=1.16.5 and <1.23.0 is required for this version of SciPy (detected version 1.23.5\n",
      "  warnings.warn(f\"A NumPy version >={np_minversion} and <{np_maxversion}\"\n"
     ]
    }
   ],
   "source": [
    "from sklearn.preprocessing import OneHotEncoder\n",
    "from pandas import DataFrame, Series\n",
    "from typing import Union, Literal\n",
    "from math import sqrt, ceil"
   ]
  },
  {
   "cell_type": "markdown",
   "id": "760209c3",
   "metadata": {
    "papermill": {
     "duration": 0.012148,
     "end_time": "2023-08-28T11:41:40.454767",
     "exception": false,
     "start_time": "2023-08-28T11:41:40.442619",
     "status": "completed"
    },
    "tags": []
   },
   "source": [
    "### Continuous -> discrete"
   ]
  },
  {
   "cell_type": "code",
   "execution_count": 3,
   "id": "ba1e8f8c",
   "metadata": {
    "execution": {
     "iopub.execute_input": "2023-08-28T11:41:40.476881Z",
     "iopub.status.busy": "2023-08-28T11:41:40.476395Z",
     "iopub.status.idle": "2023-08-28T11:41:40.487075Z",
     "shell.execute_reply": "2023-08-28T11:41:40.485838Z"
    },
    "papermill": {
     "duration": 0.024914,
     "end_time": "2023-08-28T11:41:40.489841",
     "exception": false,
     "start_time": "2023-08-28T11:41:40.464927",
     "status": "completed"
    },
    "tags": []
   },
   "outputs": [],
   "source": [
    "def convertBMIIndexToObesityCategory(bmi_index: float, log_warnings: bool = False) -> Literal[\"Underweight\", \"Healthy weight\",\"Overweight\",\"Obese\"]:\n",
    "    \"\"\"\n",
    "    Converts BMI index to a corresponding obesity category.\n",
    "    \"\"\"\n",
    "    if bmi_index < 9 and log_warnings:\n",
    "         print(f\"Very low BMI index encountered: {bmi_index}.\")\n",
    "    if bmi_index < 18.5:\n",
    "        return \"Underweight\"\n",
    "    if bmi_index < 24.9:\n",
    "        return \"Healthy weight\"\n",
    "    if bmi_index < 29.9:\n",
    "         return \"Overweight\"\n",
    "    if bmi_index > 186 and log_warnings:\n",
    "         print(f\"Very high BMI index encountered: {bmi_index}.\")\n",
    "    return \"Obese\"\n",
    "    \n",
    "def convertBMIIndexColumnToObesityCategories(bmi_column: Series) -> Series:\n",
    "    \"\"\"\n",
    "    Converts BMI indices in column to obesity category.\n",
    "    \"\"\"\n",
    "    category_list = [None] * len(bmi_column)\n",
    "    for sample_index, bmi_index in enumerate(bmi_column):\n",
    "        category_list[sample_index] = convertBMIIndexToObesityCategory(bmi_index, log_warnings = True)\n",
    "    return Series(category_list, dtype = 'category')"
   ]
  },
  {
   "cell_type": "markdown",
   "id": "1bf51b7d",
   "metadata": {
    "papermill": {
     "duration": 0.009238,
     "end_time": "2023-08-28T11:41:40.508667",
     "exception": false,
     "start_time": "2023-08-28T11:41:40.499429",
     "status": "completed"
    },
    "tags": []
   },
   "source": [
    "### Discrete -> one-hot encoded"
   ]
  },
  {
   "cell_type": "code",
   "execution_count": 4,
   "id": "6dc98f13",
   "metadata": {
    "execution": {
     "iopub.execute_input": "2023-08-28T11:41:40.529821Z",
     "iopub.status.busy": "2023-08-28T11:41:40.529341Z",
     "iopub.status.idle": "2023-08-28T11:41:40.539947Z",
     "shell.execute_reply": "2023-08-28T11:41:40.538516Z"
    },
    "papermill": {
     "duration": 0.024814,
     "end_time": "2023-08-28T11:41:40.542878",
     "exception": false,
     "start_time": "2023-08-28T11:41:40.518064",
     "status": "completed"
    },
    "tags": []
   },
   "outputs": [],
   "source": [
    "def oneHotEncodeBMIColumn(dataset: DataFrame, feature_column_name: str) -> DataFrame:\n",
    "    \"\"\"\n",
    "    Converts BMI column in dataset into series of one hot encoded obesity categories.\n",
    "    ---\n",
    "    Parameters:\n",
    "    \n",
    "    - `dataset`: DataFrame that contains column to be converted.\n",
    "    - `feature_column_index`: index of feature's column.\n",
    "    \n",
    "    Returns:\n",
    "    \n",
    "    A DataFrame with selected column categorized and one hot encoded.\n",
    "    \"\"\"\n",
    "    dataset_has_correct_type: bool = isinstance(dataset, DataFrame)\n",
    "    if not dataset_has_correct_type:\n",
    "        dataset_type_name = type(dataset)\n",
    "        raise TypeError(\"Dataset has incorrect type; use pandas.DataFrame.\")\n",
    "    try:\n",
    "        dataset[feature_column_name]\n",
    "    except KeyError:\n",
    "        raise IndexError(f\"Incorrect feature column name: {feature_column_name}\")\n",
    "    dataset[feature_column_name] = convertBMIIndexColumnToObesityCategories(dataset[feature_column_name])\n",
    "    encoder = OneHotEncoder(sparse_output = False)\n",
    "    feature_encoded = DataFrame(encoder.fit_transform(dataset[[feature_column_name]]))\n",
    "    feature_encoded.columns = encoder.get_feature_names_out([feature_column_name])\n",
    "    dataset.drop([feature_column_name], axis = 1, inplace = True)\n",
    "    return (pd.concat([dataset, feature_encoded], axis=1))"
   ]
  },
  {
   "cell_type": "code",
   "execution_count": 5,
   "id": "f86a8f0b",
   "metadata": {
    "execution": {
     "iopub.execute_input": "2023-08-28T11:41:40.566120Z",
     "iopub.status.busy": "2023-08-28T11:41:40.565611Z",
     "iopub.status.idle": "2023-08-28T11:41:41.105496Z",
     "shell.execute_reply": "2023-08-28T11:41:41.103521Z"
    },
    "papermill": {
     "duration": 0.554525,
     "end_time": "2023-08-28T11:41:41.108718",
     "exception": false,
     "start_time": "2023-08-28T11:41:40.554193",
     "status": "completed"
    },
    "tags": []
   },
   "outputs": [
    {
     "name": "stdout",
     "output_type": "stream",
     "text": [
      "   Diabetes_binary  HighBP  HighChol  CholCheck  Smoker  Stroke  \\\n",
      "0              0.0     1.0       0.0        1.0     0.0     0.0   \n",
      "1              0.0     1.0       1.0        1.0     1.0     1.0   \n",
      "2              0.0     0.0       0.0        1.0     0.0     0.0   \n",
      "3              0.0     1.0       1.0        1.0     1.0     0.0   \n",
      "4              0.0     0.0       0.0        1.0     1.0     0.0   \n",
      "\n",
      "   HeartDiseaseorAttack  PhysActivity  Fruits  Veggies  ...  PhysHlth  \\\n",
      "0                   0.0           1.0     0.0      1.0  ...      30.0   \n",
      "1                   0.0           0.0     1.0      0.0  ...       0.0   \n",
      "2                   0.0           1.0     1.0      1.0  ...      10.0   \n",
      "3                   0.0           1.0     1.0      1.0  ...       3.0   \n",
      "4                   0.0           1.0     1.0      1.0  ...       0.0   \n",
      "\n",
      "   DiffWalk  Sex   Age  Education  Income  BMI_Healthy weight  BMI_Obese  \\\n",
      "0       0.0  1.0   4.0        6.0     8.0                 0.0        0.0   \n",
      "1       0.0  1.0  12.0        6.0     8.0                 0.0        0.0   \n",
      "2       0.0  1.0  13.0        6.0     8.0                 0.0        0.0   \n",
      "3       0.0  1.0  11.0        6.0     8.0                 0.0        0.0   \n",
      "4       0.0  0.0   8.0        5.0     8.0                 0.0        0.0   \n",
      "\n",
      "   BMI_Overweight  BMI_Underweight  \n",
      "0             1.0              0.0  \n",
      "1             1.0              0.0  \n",
      "2             1.0              0.0  \n",
      "3             1.0              0.0  \n",
      "4             1.0              0.0  \n",
      "\n",
      "[5 rows x 25 columns]\n"
     ]
    }
   ],
   "source": [
    "# Data import and preprocessing\n",
    "\n",
    "diabetes_dataset_5050_split = pd.read_csv(\"/kaggle/input/diabetes-health-indicators-dataset/diabetes_binary_5050split_health_indicators_BRFSS2015.csv\")\n",
    "diabetes_dataset_5050_split_ohencoded = oneHotEncodeBMIColumn(diabetes_dataset_5050_split, \"BMI\")\n",
    "print(diabetes_dataset_5050_split_ohencoded.head())"
   ]
  },
  {
   "cell_type": "code",
   "execution_count": 6,
   "id": "c540e2ee",
   "metadata": {
    "execution": {
     "iopub.execute_input": "2023-08-28T11:41:41.130821Z",
     "iopub.status.busy": "2023-08-28T11:41:41.130338Z",
     "iopub.status.idle": "2023-08-28T11:41:41.642809Z",
     "shell.execute_reply": "2023-08-28T11:41:41.641385Z"
    },
    "papermill": {
     "duration": 0.527221,
     "end_time": "2023-08-28T11:41:41.646085",
     "exception": false,
     "start_time": "2023-08-28T11:41:41.118864",
     "status": "completed"
    },
    "tags": []
   },
   "outputs": [],
   "source": [
    "import numpy as np\n",
    "import pandas as pd\n",
    "import seaborn as sns\n",
    "import matplotlib.pyplot as plt"
   ]
  },
  {
   "cell_type": "code",
   "execution_count": 7,
   "id": "7049c217",
   "metadata": {
    "execution": {
     "iopub.execute_input": "2023-08-28T11:41:41.669371Z",
     "iopub.status.busy": "2023-08-28T11:41:41.668823Z",
     "iopub.status.idle": "2023-08-28T11:41:41.711302Z",
     "shell.execute_reply": "2023-08-28T11:41:41.709840Z"
    },
    "papermill": {
     "duration": 0.057646,
     "end_time": "2023-08-28T11:41:41.714165",
     "exception": false,
     "start_time": "2023-08-28T11:41:41.656519",
     "status": "completed"
    },
    "tags": []
   },
   "outputs": [
    {
     "data": {
      "text/html": [
       "<div>\n",
       "<style scoped>\n",
       "    .dataframe tbody tr th:only-of-type {\n",
       "        vertical-align: middle;\n",
       "    }\n",
       "\n",
       "    .dataframe tbody tr th {\n",
       "        vertical-align: top;\n",
       "    }\n",
       "\n",
       "    .dataframe thead th {\n",
       "        text-align: right;\n",
       "    }\n",
       "</style>\n",
       "<table border=\"1\" class=\"dataframe\">\n",
       "  <thead>\n",
       "    <tr style=\"text-align: right;\">\n",
       "      <th></th>\n",
       "      <th>Diabetes_binary</th>\n",
       "      <th>HighBP</th>\n",
       "      <th>HighChol</th>\n",
       "      <th>CholCheck</th>\n",
       "      <th>Smoker</th>\n",
       "      <th>Stroke</th>\n",
       "      <th>HeartDiseaseorAttack</th>\n",
       "      <th>PhysActivity</th>\n",
       "      <th>Fruits</th>\n",
       "      <th>Veggies</th>\n",
       "      <th>...</th>\n",
       "      <th>PhysHlth</th>\n",
       "      <th>DiffWalk</th>\n",
       "      <th>Sex</th>\n",
       "      <th>Age</th>\n",
       "      <th>Education</th>\n",
       "      <th>Income</th>\n",
       "      <th>BMI_Healthy weight</th>\n",
       "      <th>BMI_Obese</th>\n",
       "      <th>BMI_Overweight</th>\n",
       "      <th>BMI_Underweight</th>\n",
       "    </tr>\n",
       "  </thead>\n",
       "  <tbody>\n",
       "    <tr>\n",
       "      <th>0</th>\n",
       "      <td>0.0</td>\n",
       "      <td>1.0</td>\n",
       "      <td>0.0</td>\n",
       "      <td>1.0</td>\n",
       "      <td>0.0</td>\n",
       "      <td>0.0</td>\n",
       "      <td>0.0</td>\n",
       "      <td>1.0</td>\n",
       "      <td>0.0</td>\n",
       "      <td>1.0</td>\n",
       "      <td>...</td>\n",
       "      <td>30.0</td>\n",
       "      <td>0.0</td>\n",
       "      <td>1.0</td>\n",
       "      <td>4.0</td>\n",
       "      <td>6.0</td>\n",
       "      <td>8.0</td>\n",
       "      <td>0.0</td>\n",
       "      <td>0.0</td>\n",
       "      <td>1.0</td>\n",
       "      <td>0.0</td>\n",
       "    </tr>\n",
       "    <tr>\n",
       "      <th>1</th>\n",
       "      <td>0.0</td>\n",
       "      <td>1.0</td>\n",
       "      <td>1.0</td>\n",
       "      <td>1.0</td>\n",
       "      <td>1.0</td>\n",
       "      <td>1.0</td>\n",
       "      <td>0.0</td>\n",
       "      <td>0.0</td>\n",
       "      <td>1.0</td>\n",
       "      <td>0.0</td>\n",
       "      <td>...</td>\n",
       "      <td>0.0</td>\n",
       "      <td>0.0</td>\n",
       "      <td>1.0</td>\n",
       "      <td>12.0</td>\n",
       "      <td>6.0</td>\n",
       "      <td>8.0</td>\n",
       "      <td>0.0</td>\n",
       "      <td>0.0</td>\n",
       "      <td>1.0</td>\n",
       "      <td>0.0</td>\n",
       "    </tr>\n",
       "    <tr>\n",
       "      <th>2</th>\n",
       "      <td>0.0</td>\n",
       "      <td>0.0</td>\n",
       "      <td>0.0</td>\n",
       "      <td>1.0</td>\n",
       "      <td>0.0</td>\n",
       "      <td>0.0</td>\n",
       "      <td>0.0</td>\n",
       "      <td>1.0</td>\n",
       "      <td>1.0</td>\n",
       "      <td>1.0</td>\n",
       "      <td>...</td>\n",
       "      <td>10.0</td>\n",
       "      <td>0.0</td>\n",
       "      <td>1.0</td>\n",
       "      <td>13.0</td>\n",
       "      <td>6.0</td>\n",
       "      <td>8.0</td>\n",
       "      <td>0.0</td>\n",
       "      <td>0.0</td>\n",
       "      <td>1.0</td>\n",
       "      <td>0.0</td>\n",
       "    </tr>\n",
       "    <tr>\n",
       "      <th>3</th>\n",
       "      <td>0.0</td>\n",
       "      <td>1.0</td>\n",
       "      <td>1.0</td>\n",
       "      <td>1.0</td>\n",
       "      <td>1.0</td>\n",
       "      <td>0.0</td>\n",
       "      <td>0.0</td>\n",
       "      <td>1.0</td>\n",
       "      <td>1.0</td>\n",
       "      <td>1.0</td>\n",
       "      <td>...</td>\n",
       "      <td>3.0</td>\n",
       "      <td>0.0</td>\n",
       "      <td>1.0</td>\n",
       "      <td>11.0</td>\n",
       "      <td>6.0</td>\n",
       "      <td>8.0</td>\n",
       "      <td>0.0</td>\n",
       "      <td>0.0</td>\n",
       "      <td>1.0</td>\n",
       "      <td>0.0</td>\n",
       "    </tr>\n",
       "    <tr>\n",
       "      <th>4</th>\n",
       "      <td>0.0</td>\n",
       "      <td>0.0</td>\n",
       "      <td>0.0</td>\n",
       "      <td>1.0</td>\n",
       "      <td>1.0</td>\n",
       "      <td>0.0</td>\n",
       "      <td>0.0</td>\n",
       "      <td>1.0</td>\n",
       "      <td>1.0</td>\n",
       "      <td>1.0</td>\n",
       "      <td>...</td>\n",
       "      <td>0.0</td>\n",
       "      <td>0.0</td>\n",
       "      <td>0.0</td>\n",
       "      <td>8.0</td>\n",
       "      <td>5.0</td>\n",
       "      <td>8.0</td>\n",
       "      <td>0.0</td>\n",
       "      <td>0.0</td>\n",
       "      <td>1.0</td>\n",
       "      <td>0.0</td>\n",
       "    </tr>\n",
       "  </tbody>\n",
       "</table>\n",
       "<p>5 rows × 25 columns</p>\n",
       "</div>"
      ],
      "text/plain": [
       "   Diabetes_binary  HighBP  HighChol  CholCheck  Smoker  Stroke  \\\n",
       "0              0.0     1.0       0.0        1.0     0.0     0.0   \n",
       "1              0.0     1.0       1.0        1.0     1.0     1.0   \n",
       "2              0.0     0.0       0.0        1.0     0.0     0.0   \n",
       "3              0.0     1.0       1.0        1.0     1.0     0.0   \n",
       "4              0.0     0.0       0.0        1.0     1.0     0.0   \n",
       "\n",
       "   HeartDiseaseorAttack  PhysActivity  Fruits  Veggies  ...  PhysHlth  \\\n",
       "0                   0.0           1.0     0.0      1.0  ...      30.0   \n",
       "1                   0.0           0.0     1.0      0.0  ...       0.0   \n",
       "2                   0.0           1.0     1.0      1.0  ...      10.0   \n",
       "3                   0.0           1.0     1.0      1.0  ...       3.0   \n",
       "4                   0.0           1.0     1.0      1.0  ...       0.0   \n",
       "\n",
       "   DiffWalk  Sex   Age  Education  Income  BMI_Healthy weight  BMI_Obese  \\\n",
       "0       0.0  1.0   4.0        6.0     8.0                 0.0        0.0   \n",
       "1       0.0  1.0  12.0        6.0     8.0                 0.0        0.0   \n",
       "2       0.0  1.0  13.0        6.0     8.0                 0.0        0.0   \n",
       "3       0.0  1.0  11.0        6.0     8.0                 0.0        0.0   \n",
       "4       0.0  0.0   8.0        5.0     8.0                 0.0        0.0   \n",
       "\n",
       "   BMI_Overweight  BMI_Underweight  \n",
       "0             1.0              0.0  \n",
       "1             1.0              0.0  \n",
       "2             1.0              0.0  \n",
       "3             1.0              0.0  \n",
       "4             1.0              0.0  \n",
       "\n",
       "[5 rows x 25 columns]"
      ]
     },
     "execution_count": 7,
     "metadata": {},
     "output_type": "execute_result"
    }
   ],
   "source": [
    "# assigning ready datset as df to make it easier \n",
    "\n",
    "df = diabetes_dataset_5050_split_ohencoded\n",
    "df.head()\n",
    "\n"
   ]
  },
  {
   "cell_type": "code",
   "execution_count": 8,
   "id": "9ccd4212",
   "metadata": {
    "execution": {
     "iopub.execute_input": "2023-08-28T11:41:41.737640Z",
     "iopub.status.busy": "2023-08-28T11:41:41.737164Z",
     "iopub.status.idle": "2023-08-28T11:41:41.764443Z",
     "shell.execute_reply": "2023-08-28T11:41:41.763464Z"
    },
    "papermill": {
     "duration": 0.04277,
     "end_time": "2023-08-28T11:41:41.767704",
     "exception": false,
     "start_time": "2023-08-28T11:41:41.724934",
     "status": "completed"
    },
    "tags": []
   },
   "outputs": [
    {
     "name": "stdout",
     "output_type": "stream",
     "text": [
      "<class 'pandas.core.frame.DataFrame'>\n",
      "RangeIndex: 70692 entries, 0 to 70691\n",
      "Data columns (total 25 columns):\n",
      " #   Column                Non-Null Count  Dtype  \n",
      "---  ------                --------------  -----  \n",
      " 0   Diabetes_binary       70692 non-null  float64\n",
      " 1   HighBP                70692 non-null  float64\n",
      " 2   HighChol              70692 non-null  float64\n",
      " 3   CholCheck             70692 non-null  float64\n",
      " 4   Smoker                70692 non-null  float64\n",
      " 5   Stroke                70692 non-null  float64\n",
      " 6   HeartDiseaseorAttack  70692 non-null  float64\n",
      " 7   PhysActivity          70692 non-null  float64\n",
      " 8   Fruits                70692 non-null  float64\n",
      " 9   Veggies               70692 non-null  float64\n",
      " 10  HvyAlcoholConsump     70692 non-null  float64\n",
      " 11  AnyHealthcare         70692 non-null  float64\n",
      " 12  NoDocbcCost           70692 non-null  float64\n",
      " 13  GenHlth               70692 non-null  float64\n",
      " 14  MentHlth              70692 non-null  float64\n",
      " 15  PhysHlth              70692 non-null  float64\n",
      " 16  DiffWalk              70692 non-null  float64\n",
      " 17  Sex                   70692 non-null  float64\n",
      " 18  Age                   70692 non-null  float64\n",
      " 19  Education             70692 non-null  float64\n",
      " 20  Income                70692 non-null  float64\n",
      " 21  BMI_Healthy weight    70692 non-null  float64\n",
      " 22  BMI_Obese             70692 non-null  float64\n",
      " 23  BMI_Overweight        70692 non-null  float64\n",
      " 24  BMI_Underweight       70692 non-null  float64\n",
      "dtypes: float64(25)\n",
      "memory usage: 13.5 MB\n"
     ]
    }
   ],
   "source": [
    "# checking column names, types and count\n",
    "\n",
    "df.info()\n"
   ]
  },
  {
   "cell_type": "code",
   "execution_count": 9,
   "id": "5ff30a0f",
   "metadata": {
    "execution": {
     "iopub.execute_input": "2023-08-28T11:41:41.791823Z",
     "iopub.status.busy": "2023-08-28T11:41:41.791373Z",
     "iopub.status.idle": "2023-08-28T11:41:41.806474Z",
     "shell.execute_reply": "2023-08-28T11:41:41.804940Z"
    },
    "papermill": {
     "duration": 0.030901,
     "end_time": "2023-08-28T11:41:41.809380",
     "exception": false,
     "start_time": "2023-08-28T11:41:41.778479",
     "status": "completed"
    },
    "tags": []
   },
   "outputs": [
    {
     "data": {
      "text/plain": [
       "Diabetes_binary         0\n",
       "HighBP                  0\n",
       "HighChol                0\n",
       "CholCheck               0\n",
       "Smoker                  0\n",
       "Stroke                  0\n",
       "HeartDiseaseorAttack    0\n",
       "PhysActivity            0\n",
       "Fruits                  0\n",
       "Veggies                 0\n",
       "HvyAlcoholConsump       0\n",
       "AnyHealthcare           0\n",
       "NoDocbcCost             0\n",
       "GenHlth                 0\n",
       "MentHlth                0\n",
       "PhysHlth                0\n",
       "DiffWalk                0\n",
       "Sex                     0\n",
       "Age                     0\n",
       "Education               0\n",
       "Income                  0\n",
       "BMI_Healthy weight      0\n",
       "BMI_Obese               0\n",
       "BMI_Overweight          0\n",
       "BMI_Underweight         0\n",
       "dtype: int64"
      ]
     },
     "execution_count": 9,
     "metadata": {},
     "output_type": "execute_result"
    }
   ],
   "source": [
    "# checking if there are any missing values\n",
    "\n",
    "df.isna().sum()"
   ]
  },
  {
   "cell_type": "code",
   "execution_count": 10,
   "id": "a77b297e",
   "metadata": {
    "execution": {
     "iopub.execute_input": "2023-08-28T11:41:41.833200Z",
     "iopub.status.busy": "2023-08-28T11:41:41.832717Z",
     "iopub.status.idle": "2023-08-28T11:41:41.897489Z",
     "shell.execute_reply": "2023-08-28T11:41:41.895909Z"
    },
    "papermill": {
     "duration": 0.080187,
     "end_time": "2023-08-28T11:41:41.900285",
     "exception": false,
     "start_time": "2023-08-28T11:41:41.820098",
     "status": "completed"
    },
    "tags": []
   },
   "outputs": [
    {
     "data": {
      "text/plain": [
       "4799"
      ]
     },
     "execution_count": 10,
     "metadata": {},
     "output_type": "execute_result"
    }
   ],
   "source": [
    "df.duplicated().sum()"
   ]
  },
  {
   "cell_type": "code",
   "execution_count": 11,
   "id": "30fd692f",
   "metadata": {
    "execution": {
     "iopub.execute_input": "2023-08-28T11:41:41.924950Z",
     "iopub.status.busy": "2023-08-28T11:41:41.924485Z",
     "iopub.status.idle": "2023-08-28T11:41:41.990450Z",
     "shell.execute_reply": "2023-08-28T11:41:41.989087Z"
    },
    "papermill": {
     "duration": 0.081167,
     "end_time": "2023-08-28T11:41:41.993089",
     "exception": false,
     "start_time": "2023-08-28T11:41:41.911922",
     "status": "completed"
    },
    "tags": []
   },
   "outputs": [
    {
     "data": {
      "text/plain": [
       "(65893, 25)"
      ]
     },
     "execution_count": 11,
     "metadata": {},
     "output_type": "execute_result"
    }
   ],
   "source": [
    "#Drop duplicate rows\n",
    "df.drop_duplicates(inplace = True)\n",
    "df.shape"
   ]
  },
  {
   "cell_type": "code",
   "execution_count": 12,
   "id": "7ee8dc32",
   "metadata": {
    "execution": {
     "iopub.execute_input": "2023-08-28T11:41:42.019708Z",
     "iopub.status.busy": "2023-08-28T11:41:42.019250Z",
     "iopub.status.idle": "2023-08-28T11:41:42.070236Z",
     "shell.execute_reply": "2023-08-28T11:41:42.069078Z"
    },
    "papermill": {
     "duration": 0.069291,
     "end_time": "2023-08-28T11:41:42.073353",
     "exception": false,
     "start_time": "2023-08-28T11:41:42.004062",
     "status": "completed"
    },
    "tags": []
   },
   "outputs": [
    {
     "data": {
      "text/html": [
       "<div>\n",
       "<style scoped>\n",
       "    .dataframe tbody tr th:only-of-type {\n",
       "        vertical-align: middle;\n",
       "    }\n",
       "\n",
       "    .dataframe tbody tr th {\n",
       "        vertical-align: top;\n",
       "    }\n",
       "\n",
       "    .dataframe thead th {\n",
       "        text-align: right;\n",
       "    }\n",
       "</style>\n",
       "<table border=\"1\" class=\"dataframe\">\n",
       "  <thead>\n",
       "    <tr style=\"text-align: right;\">\n",
       "      <th></th>\n",
       "      <th>HighBP</th>\n",
       "      <th>HighChol</th>\n",
       "      <th>CholCheck</th>\n",
       "      <th>Smoker</th>\n",
       "      <th>Stroke</th>\n",
       "      <th>HeartDiseaseorAttack</th>\n",
       "      <th>PhysActivity</th>\n",
       "      <th>Fruits</th>\n",
       "      <th>Veggies</th>\n",
       "      <th>HvyAlcoholConsump</th>\n",
       "      <th>...</th>\n",
       "      <th>DiffWalk</th>\n",
       "      <th>Sex</th>\n",
       "      <th>Age</th>\n",
       "      <th>Education</th>\n",
       "      <th>Income</th>\n",
       "      <th>BMI_Healthy weight</th>\n",
       "      <th>BMI_Obese</th>\n",
       "      <th>BMI_Overweight</th>\n",
       "      <th>BMI_Underweight</th>\n",
       "      <th>target</th>\n",
       "    </tr>\n",
       "  </thead>\n",
       "  <tbody>\n",
       "    <tr>\n",
       "      <th>0</th>\n",
       "      <td>1.0</td>\n",
       "      <td>0.0</td>\n",
       "      <td>1.0</td>\n",
       "      <td>0.0</td>\n",
       "      <td>0.0</td>\n",
       "      <td>0.0</td>\n",
       "      <td>1.0</td>\n",
       "      <td>0.0</td>\n",
       "      <td>1.0</td>\n",
       "      <td>0.0</td>\n",
       "      <td>...</td>\n",
       "      <td>0.0</td>\n",
       "      <td>1.0</td>\n",
       "      <td>4.0</td>\n",
       "      <td>6.0</td>\n",
       "      <td>8.0</td>\n",
       "      <td>0.0</td>\n",
       "      <td>0.0</td>\n",
       "      <td>1.0</td>\n",
       "      <td>0.0</td>\n",
       "      <td>0.0</td>\n",
       "    </tr>\n",
       "    <tr>\n",
       "      <th>1</th>\n",
       "      <td>1.0</td>\n",
       "      <td>1.0</td>\n",
       "      <td>1.0</td>\n",
       "      <td>1.0</td>\n",
       "      <td>1.0</td>\n",
       "      <td>0.0</td>\n",
       "      <td>0.0</td>\n",
       "      <td>1.0</td>\n",
       "      <td>0.0</td>\n",
       "      <td>0.0</td>\n",
       "      <td>...</td>\n",
       "      <td>0.0</td>\n",
       "      <td>1.0</td>\n",
       "      <td>12.0</td>\n",
       "      <td>6.0</td>\n",
       "      <td>8.0</td>\n",
       "      <td>0.0</td>\n",
       "      <td>0.0</td>\n",
       "      <td>1.0</td>\n",
       "      <td>0.0</td>\n",
       "      <td>0.0</td>\n",
       "    </tr>\n",
       "    <tr>\n",
       "      <th>2</th>\n",
       "      <td>0.0</td>\n",
       "      <td>0.0</td>\n",
       "      <td>1.0</td>\n",
       "      <td>0.0</td>\n",
       "      <td>0.0</td>\n",
       "      <td>0.0</td>\n",
       "      <td>1.0</td>\n",
       "      <td>1.0</td>\n",
       "      <td>1.0</td>\n",
       "      <td>0.0</td>\n",
       "      <td>...</td>\n",
       "      <td>0.0</td>\n",
       "      <td>1.0</td>\n",
       "      <td>13.0</td>\n",
       "      <td>6.0</td>\n",
       "      <td>8.0</td>\n",
       "      <td>0.0</td>\n",
       "      <td>0.0</td>\n",
       "      <td>1.0</td>\n",
       "      <td>0.0</td>\n",
       "      <td>0.0</td>\n",
       "    </tr>\n",
       "    <tr>\n",
       "      <th>3</th>\n",
       "      <td>1.0</td>\n",
       "      <td>1.0</td>\n",
       "      <td>1.0</td>\n",
       "      <td>1.0</td>\n",
       "      <td>0.0</td>\n",
       "      <td>0.0</td>\n",
       "      <td>1.0</td>\n",
       "      <td>1.0</td>\n",
       "      <td>1.0</td>\n",
       "      <td>0.0</td>\n",
       "      <td>...</td>\n",
       "      <td>0.0</td>\n",
       "      <td>1.0</td>\n",
       "      <td>11.0</td>\n",
       "      <td>6.0</td>\n",
       "      <td>8.0</td>\n",
       "      <td>0.0</td>\n",
       "      <td>0.0</td>\n",
       "      <td>1.0</td>\n",
       "      <td>0.0</td>\n",
       "      <td>0.0</td>\n",
       "    </tr>\n",
       "    <tr>\n",
       "      <th>4</th>\n",
       "      <td>0.0</td>\n",
       "      <td>0.0</td>\n",
       "      <td>1.0</td>\n",
       "      <td>1.0</td>\n",
       "      <td>0.0</td>\n",
       "      <td>0.0</td>\n",
       "      <td>1.0</td>\n",
       "      <td>1.0</td>\n",
       "      <td>1.0</td>\n",
       "      <td>0.0</td>\n",
       "      <td>...</td>\n",
       "      <td>0.0</td>\n",
       "      <td>0.0</td>\n",
       "      <td>8.0</td>\n",
       "      <td>5.0</td>\n",
       "      <td>8.0</td>\n",
       "      <td>0.0</td>\n",
       "      <td>0.0</td>\n",
       "      <td>1.0</td>\n",
       "      <td>0.0</td>\n",
       "      <td>0.0</td>\n",
       "    </tr>\n",
       "  </tbody>\n",
       "</table>\n",
       "<p>5 rows × 25 columns</p>\n",
       "</div>"
      ],
      "text/plain": [
       "   HighBP  HighChol  CholCheck  Smoker  Stroke  HeartDiseaseorAttack  \\\n",
       "0     1.0       0.0        1.0     0.0     0.0                   0.0   \n",
       "1     1.0       1.0        1.0     1.0     1.0                   0.0   \n",
       "2     0.0       0.0        1.0     0.0     0.0                   0.0   \n",
       "3     1.0       1.0        1.0     1.0     0.0                   0.0   \n",
       "4     0.0       0.0        1.0     1.0     0.0                   0.0   \n",
       "\n",
       "   PhysActivity  Fruits  Veggies  HvyAlcoholConsump  ...  DiffWalk  Sex   Age  \\\n",
       "0           1.0     0.0      1.0                0.0  ...       0.0  1.0   4.0   \n",
       "1           0.0     1.0      0.0                0.0  ...       0.0  1.0  12.0   \n",
       "2           1.0     1.0      1.0                0.0  ...       0.0  1.0  13.0   \n",
       "3           1.0     1.0      1.0                0.0  ...       0.0  1.0  11.0   \n",
       "4           1.0     1.0      1.0                0.0  ...       0.0  0.0   8.0   \n",
       "\n",
       "   Education  Income  BMI_Healthy weight  BMI_Obese  BMI_Overweight  \\\n",
       "0        6.0     8.0                 0.0        0.0             1.0   \n",
       "1        6.0     8.0                 0.0        0.0             1.0   \n",
       "2        6.0     8.0                 0.0        0.0             1.0   \n",
       "3        6.0     8.0                 0.0        0.0             1.0   \n",
       "4        5.0     8.0                 0.0        0.0             1.0   \n",
       "\n",
       "   BMI_Underweight  target  \n",
       "0              0.0     0.0  \n",
       "1              0.0     0.0  \n",
       "2              0.0     0.0  \n",
       "3              0.0     0.0  \n",
       "4              0.0     0.0  \n",
       "\n",
       "[5 rows x 25 columns]"
      ]
     },
     "execution_count": 12,
     "metadata": {},
     "output_type": "execute_result"
    }
   ],
   "source": [
    "# create new column named target\n",
    "# remove duplicated column (\"Diabetes_binary\")\n",
    "\n",
    "df[\"target\"] = df[\"Diabetes_binary\"]\n",
    "df = df.drop(['Diabetes_binary'], axis=1)\n",
    "df.head()\n"
   ]
  },
  {
   "cell_type": "code",
   "execution_count": 13,
   "id": "770e1824",
   "metadata": {
    "execution": {
     "iopub.execute_input": "2023-08-28T11:41:42.098251Z",
     "iopub.status.busy": "2023-08-28T11:41:42.097739Z",
     "iopub.status.idle": "2023-08-28T11:41:42.260864Z",
     "shell.execute_reply": "2023-08-28T11:41:42.259277Z"
    },
    "papermill": {
     "duration": 0.179301,
     "end_time": "2023-08-28T11:41:42.263982",
     "exception": false,
     "start_time": "2023-08-28T11:41:42.084681",
     "status": "completed"
    },
    "tags": []
   },
   "outputs": [
    {
     "data": {
      "text/plain": [
       "BMI_Healthy weight     -0.216457\n",
       "Income                 -0.201689\n",
       "Education              -0.146971\n",
       "PhysActivity           -0.141777\n",
       "HvyAlcoholConsump      -0.103977\n",
       "BMI_Overweight         -0.077106\n",
       "Veggies                -0.065513\n",
       "BMI_Underweight        -0.050798\n",
       "Fruits                 -0.036157\n",
       "NoDocbcCost             0.030855\n",
       "AnyHealthcare           0.032088\n",
       "Sex                     0.038339\n",
       "Smoker                  0.066142\n",
       "MentHlth                0.074102\n",
       "Stroke                  0.120636\n",
       "CholCheck               0.123846\n",
       "PhysHlth                0.201519\n",
       "HeartDiseaseorAttack    0.203863\n",
       "BMI_Obese               0.255819\n",
       "DiffWalk                0.262863\n",
       "Age                     0.269909\n",
       "HighChol                0.272784\n",
       "HighBP                  0.359039\n",
       "GenHlth                 0.383946\n",
       "target                  1.000000\n",
       "Name: target, dtype: float64"
      ]
     },
     "execution_count": 13,
     "metadata": {},
     "output_type": "execute_result"
    }
   ],
   "source": [
    "# check correlation between target and other variables \n",
    "\n",
    "df.corr()['target'].sort_values()"
   ]
  },
  {
   "cell_type": "code",
   "execution_count": 14,
   "id": "afb8030d",
   "metadata": {
    "execution": {
     "iopub.execute_input": "2023-08-28T11:41:42.290059Z",
     "iopub.status.busy": "2023-08-28T11:41:42.289495Z",
     "iopub.status.idle": "2023-08-28T11:41:43.574407Z",
     "shell.execute_reply": "2023-08-28T11:41:43.573412Z"
    },
    "papermill": {
     "duration": 1.300813,
     "end_time": "2023-08-28T11:41:43.576995",
     "exception": false,
     "start_time": "2023-08-28T11:41:42.276182",
     "status": "completed"
    },
    "tags": []
   },
   "outputs": [
    {
     "data": {
      "text/plain": [
       "<seaborn.matrix.ClusterGrid at 0x7cae36230d90>"
      ]
     },
     "execution_count": 14,
     "metadata": {},
     "output_type": "execute_result"
    },
    {
     "data": {
      "image/png": "[encoded data removed]",
      "text/plain": [
       "<Figure size 1000x1000 with 4 Axes>"
      ]
     },
     "metadata": {},
     "output_type": "display_data"
    }
   ],
   "source": [
    "# plot the correlation as heatmap using Seaborn\n",
    "\n",
    "sns.clustermap(df.corr())"
   ]
  },
  {
   "cell_type": "code",
   "execution_count": 15,
   "id": "9909008e",
   "metadata": {
    "execution": {
     "iopub.execute_input": "2023-08-28T11:41:43.606728Z",
     "iopub.status.busy": "2023-08-28T11:41:43.606213Z",
     "iopub.status.idle": "2023-08-28T11:41:44.239986Z",
     "shell.execute_reply": "2023-08-28T11:41:44.238770Z"
    },
    "papermill": {
     "duration": 0.652446,
     "end_time": "2023-08-28T11:41:44.242782",
     "exception": false,
     "start_time": "2023-08-28T11:41:43.590336",
     "status": "completed"
    },
    "tags": []
   },
   "outputs": [
    {
     "data": {
      "text/plain": [
       "<Axes: >"
      ]
     },
     "execution_count": 15,
     "metadata": {},
     "output_type": "execute_result"
    },
    {
     "data": {
      "image/png": "[encoded data removed]",
      "text/plain": [
       "<Figure size 640x480 with 1 Axes>"
      ]
     },
     "metadata": {},
     "output_type": "display_data"
    }
   ],
   "source": [
    "df.corr()['target'][:-1].sort_values().plot(kind='bar')"
   ]
  },
  {
   "cell_type": "markdown",
   "id": "ab4eaf0f",
   "metadata": {
    "papermill": {
     "duration": 0.013864,
     "end_time": "2023-08-28T11:41:44.271579",
     "exception": false,
     "start_time": "2023-08-28T11:41:44.257715",
     "status": "completed"
    },
    "tags": []
   },
   "source": [
    "What we can see from the heatmap is that Diabetes(target) positively correlates with BMI_Obese, Difficulty Walking, General Health, High Blood Pressure, and negatively correlates with BMI_Healthy_weight, income, Education, and Physical Activity\n"
   ]
  },
  {
   "cell_type": "code",
   "execution_count": 16,
   "id": "39754ede",
   "metadata": {
    "execution": {
     "iopub.execute_input": "2023-08-28T11:41:44.302548Z",
     "iopub.status.busy": "2023-08-28T11:41:44.301278Z",
     "iopub.status.idle": "2023-08-28T11:41:44.571895Z",
     "shell.execute_reply": "2023-08-28T11:41:44.570392Z"
    },
    "papermill": {
     "duration": 0.289457,
     "end_time": "2023-08-28T11:41:44.575177",
     "exception": false,
     "start_time": "2023-08-28T11:41:44.285720",
     "status": "completed"
    },
    "tags": []
   },
   "outputs": [
    {
     "data": {
      "text/plain": [
       "<Axes: xlabel='target', ylabel='count'>"
      ]
     },
     "execution_count": 16,
     "metadata": {},
     "output_type": "execute_result"
    },
    {
     "data": {
      "image/png": "[encoded data removed]",
      "text/plain": [
       "<Figure size 640x480 with 1 Axes>"
      ]
     },
     "metadata": {},
     "output_type": "display_data"
    }
   ],
   "source": [
    "# plot target counts using Seaborn - see if the datset is balanced\n",
    "import seaborn as sns\n",
    "sns.countplot(data=df,\n",
    "          x='target')"
   ]
  },
  {
   "cell_type": "code",
   "execution_count": 17,
   "id": "61189208",
   "metadata": {
    "execution": {
     "iopub.execute_input": "2023-08-28T11:41:44.607858Z",
     "iopub.status.busy": "2023-08-28T11:41:44.607173Z",
     "iopub.status.idle": "2023-08-28T11:41:44.630842Z",
     "shell.execute_reply": "2023-08-28T11:41:44.629625Z"
    },
    "papermill": {
     "duration": 0.042559,
     "end_time": "2023-08-28T11:41:44.633460",
     "exception": false,
     "start_time": "2023-08-28T11:41:44.590901",
     "status": "completed"
    },
    "tags": []
   },
   "outputs": [
    {
     "data": {
      "text/plain": [
       "1.0    34127\n",
       "0.0    31766\n",
       "Name: target, dtype: int64"
      ]
     },
     "execution_count": 17,
     "metadata": {},
     "output_type": "execute_result"
    }
   ],
   "source": [
    "df['target'].value_counts()"
   ]
  },
  {
   "cell_type": "code",
   "execution_count": 18,
   "id": "6a00992f",
   "metadata": {
    "execution": {
     "iopub.execute_input": "2023-08-28T11:41:44.666515Z",
     "iopub.status.busy": "2023-08-28T11:41:44.665424Z",
     "iopub.status.idle": "2023-08-28T11:41:46.781204Z",
     "shell.execute_reply": "2023-08-28T11:41:46.779956Z"
    },
    "papermill": {
     "duration": 2.135296,
     "end_time": "2023-08-28T11:41:46.784532",
     "exception": false,
     "start_time": "2023-08-28T11:41:44.649236",
     "status": "completed"
    },
    "tags": []
   },
   "outputs": [
    {
     "name": "stderr",
     "output_type": "stream",
     "text": [
      "/opt/conda/lib/python3.10/site-packages/seaborn/axisgrid.py:118: UserWarning: The figure layout has changed to tight\n",
      "  self._figure.tight_layout(*args, **kwargs)\n"
     ]
    },
    {
     "data": {
      "text/plain": [
       "<seaborn.axisgrid.FacetGrid at 0x7cae33c803d0>"
      ]
     },
     "execution_count": 18,
     "metadata": {},
     "output_type": "execute_result"
    },
    {
     "data": {
      "image/png": "[encoded data removed]",
      "text/plain": [
       "<Figure size 1072.12x500 with 2 Axes>"
      ]
     },
     "metadata": {},
     "output_type": "display_data"
    }
   ],
   "source": [
    "# plot target vs. age\n",
    "\n",
    "sns.displot(data=df, x=\"Age\", hue=\"Sex\", col=\"target\")"
   ]
  },
  {
   "cell_type": "code",
   "execution_count": 19,
   "id": "8d32e54f",
   "metadata": {
    "execution": {
     "iopub.execute_input": "2023-08-28T11:41:46.819043Z",
     "iopub.status.busy": "2023-08-28T11:41:46.818193Z",
     "iopub.status.idle": "2023-08-28T11:41:46.982119Z",
     "shell.execute_reply": "2023-08-28T11:41:46.980670Z"
    },
    "papermill": {
     "duration": 0.184583,
     "end_time": "2023-08-28T11:41:46.985201",
     "exception": false,
     "start_time": "2023-08-28T11:41:46.800618",
     "status": "completed"
    },
    "tags": []
   },
   "outputs": [],
   "source": [
    "# prepare trainig set and testing set\n",
    "\n",
    "from sklearn.model_selection import train_test_split\n",
    "\n",
    "X = df.drop('target', axis=1)\n",
    "y = df['target']\n",
    "\n",
    "X_train, X_test, y_train, y_test = train_test_split(X, y, \n",
    "                                                    test_size=0.2, \n",
    "                                                    random_state=42)"
   ]
  },
  {
   "cell_type": "code",
   "execution_count": 20,
   "id": "08dd7221",
   "metadata": {
    "execution": {
     "iopub.execute_input": "2023-08-28T11:41:47.018968Z",
     "iopub.status.busy": "2023-08-28T11:41:47.018244Z",
     "iopub.status.idle": "2023-08-28T11:41:47.064656Z",
     "shell.execute_reply": "2023-08-28T11:41:47.063584Z"
    },
    "papermill": {
     "duration": 0.066815,
     "end_time": "2023-08-28T11:41:47.067348",
     "exception": false,
     "start_time": "2023-08-28T11:41:47.000533",
     "status": "completed"
    },
    "tags": []
   },
   "outputs": [],
   "source": [
    "# scale the data using Standard Scaler\n",
    "from sklearn.preprocessing import StandardScaler\n",
    "\n",
    "\n",
    "scaler = StandardScaler()\n",
    "scaled_X_train = scaler.fit_transform(X_train)\n",
    "scaled_X_test = scaler.fit_transform(X_test)"
   ]
  },
  {
   "cell_type": "code",
   "execution_count": 21,
   "id": "c2debada",
   "metadata": {
    "execution": {
     "iopub.execute_input": "2023-08-28T11:41:47.101762Z",
     "iopub.status.busy": "2023-08-28T11:41:47.100720Z",
     "iopub.status.idle": "2023-08-28T11:41:47.556648Z",
     "shell.execute_reply": "2023-08-28T11:41:47.555560Z"
    },
    "papermill": {
     "duration": 0.47659,
     "end_time": "2023-08-28T11:41:47.559567",
     "exception": false,
     "start_time": "2023-08-28T11:41:47.082977",
     "status": "completed"
    },
    "tags": []
   },
   "outputs": [],
   "source": [
    "\n",
    "# import classifiers to be tested: Logistic Regression, Decision Tree, Random Forest, Gradient Boosting, Gaussian Naive Bayes, Multi-layer Perceptron\n",
    "\n",
    "from sklearn.linear_model import LogisticRegression\n",
    "from sklearn.tree import DecisionTreeClassifier \n",
    "from sklearn.ensemble import RandomForestClassifier\n",
    "from sklearn.ensemble import GradientBoostingClassifier\n",
    "from sklearn.naive_bayes import GaussianNB\n",
    "from sklearn.neural_network import MLPClassifier\n",
    "\n",
    "\n",
    "# import metrics, pipeline and GridSearchCV\n",
    "from sklearn.metrics import accuracy_score,classification_report\n",
    "from sklearn.model_selection import GridSearchCV\n",
    "from sklearn.pipeline import make_pipeline"
   ]
  },
  {
   "cell_type": "markdown",
   "id": "1ec91479",
   "metadata": {
    "papermill": {
     "duration": 0.016426,
     "end_time": "2023-08-28T11:41:47.592488",
     "exception": false,
     "start_time": "2023-08-28T11:41:47.576062",
     "status": "completed"
    },
    "tags": []
   },
   "source": [
    "The next step is to write (a) function(s) that would:\n",
    "\n",
    "1. choose best params for each model using GridSearchCV and Pipeline\n",
    "\n",
    "2. test each of models performance using Pipeline\n",
    "\n",
    "3. plots each model performance metrics (?)"
   ]
  },
  {
   "cell_type": "code",
   "execution_count": null,
   "id": "719a39f7",
   "metadata": {
    "papermill": {
     "duration": 0.015076,
     "end_time": "2023-08-28T11:41:47.623039",
     "exception": false,
     "start_time": "2023-08-28T11:41:47.607963",
     "status": "completed"
    },
    "tags": []
   },
   "outputs": [],
   "source": []
  }
 ],
 "metadata": {
  "kernelspec": {
   "display_name": "Python 3",
   "language": "python",
   "name": "python3"
  },
  "language_info": {
   "codemirror_mode": {
    "name": "ipython",
    "version": 3
   },
   "file_extension": ".py",
   "mimetype": "text/x-python",
   "name": "python",
   "nbconvert_exporter": "python",
   "pygments_lexer": "ipython3",
   "version": "3.10.12"
  },
  "papermill": {
   "default_parameters": {},
   "duration": 22.456994,
   "end_time": "2023-08-28T11:41:49.266604",
   "environment_variables": {},
   "exception": null,
   "input_path": "__notebook__.ipynb",
   "output_path": "__notebook__.ipynb",
   "parameters": {},
   "start_time": "2023-08-28T11:41:26.809610",
   "version": "2.4.0"
  }
 },
 "nbformat": 4,
 "nbformat_minor": 5
}
