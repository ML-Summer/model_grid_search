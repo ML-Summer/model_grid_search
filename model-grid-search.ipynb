{
 "cells": [
  {
   "cell_type": "code",
   "execution_count": 1,
   "id": "05c0ac15",
   "metadata": {
    "_cell_guid": "b1076dfc-b9ad-4769-8c92-a6c4dae69d19",
    "_uuid": "8f2839f25d086af736a60e9eeb907d3b93b6e0e5",
    "execution": {
     "iopub.execute_input": "2023-08-29T07:18:49.076942Z",
     "iopub.status.busy": "2023-08-29T07:18:49.075920Z",
     "iopub.status.idle": "2023-08-29T07:18:49.098406Z",
     "shell.execute_reply": "2023-08-29T07:18:49.097513Z"
    },
    "papermill": {
     "duration": 0.029726,
     "end_time": "2023-08-29T07:18:49.100406",
     "exception": false,
     "start_time": "2023-08-29T07:18:49.070680",
     "status": "completed"
    },
    "tags": []
   },
   "outputs": [
    {
     "name": "stdout",
     "output_type": "stream",
     "text": [
      "/kaggle/input/diabetes-health-indicators-dataset/diabetes_binary_5050split_health_indicators_BRFSS2015.csv\n",
      "/kaggle/input/diabetes-health-indicators-dataset/diabetes_binary_health_indicators_BRFSS2015.csv\n",
      "/kaggle/input/diabetes-health-indicators-dataset/diabetes_012_health_indicators_BRFSS2015.csv\n"
     ]
    }
   ],
   "source": [
    "# This Python 3 environment comes with many helpful analytics libraries installed\n",
    "# It is defined by the kaggle/python Docker image: https://github.com/kaggle/docker-python\n",
    "# For example, here's several helpful packages to load\n",
    "\n",
    "import numpy as np # linear algebra\n",
    "import pandas as pd # data processing, CSV file I/O (e.g. pd.read_csv)\n",
    "\n",
    "# Input data files are available in the read-only \"../input/\" directory\n",
    "# For example, running this (by clicking run or pressing Shift+Enter) will list all files under the input directory\n",
    "\n",
    "import os\n",
    "for dirname, _, filenames in os.walk('/kaggle/input'):\n",
    "    for filename in filenames:\n",
    "        print(os.path.join(dirname, filename))\n",
    "\n",
    "# You can write up to 20GB to the current directory (/kaggle/working/) that gets preserved as output when you create a version using \"Save & Run All\" \n",
    "# You can also write temporary files to /kaggle/temp/, but they won't be saved outside of the current session"
   ]
  },
  {
   "cell_type": "markdown",
   "id": "16010bb5",
   "metadata": {
    "papermill": {
     "duration": 0.00278,
     "end_time": "2023-08-29T07:18:49.106523",
     "exception": false,
     "start_time": "2023-08-29T07:18:49.103743",
     "status": "completed"
    },
    "tags": []
   },
   "source": [
    "# PLAN OF WORK\n",
    "\n",
    "1. BMI ---> categorical (bins)\n",
    "2. scale data (StandardScaler)\n",
    "3. EDA:\n",
    "    - correlation etc.\n",
    "  \n"
   ]
  },
  {
   "cell_type": "markdown",
   "id": "05e9ee13",
   "metadata": {
    "papermill": {
     "duration": 0.002788,
     "end_time": "2023-08-29T07:18:49.112166",
     "exception": false,
     "start_time": "2023-08-29T07:18:49.109378",
     "status": "completed"
    },
    "tags": []
   },
   "source": [
    "# Data preparation\n",
    "\n",
    "## Changing continuous feature into a bunch of binary ones (continuous -> categories -> one hot encoding)"
   ]
  },
  {
   "cell_type": "markdown",
   "id": "d0509aaf",
   "metadata": {
    "papermill": {
     "duration": 0.002664,
     "end_time": "2023-08-29T07:18:49.117694",
     "exception": false,
     "start_time": "2023-08-29T07:18:49.115030",
     "status": "completed"
    },
    "tags": []
   },
   "source": [
    "### Module imports"
   ]
  },
  {
   "cell_type": "code",
   "execution_count": 2,
   "id": "f7a1e8d8",
   "metadata": {
    "execution": {
     "iopub.execute_input": "2023-08-29T07:18:49.125554Z",
     "iopub.status.busy": "2023-08-29T07:18:49.124750Z",
     "iopub.status.idle": "2023-08-29T07:18:50.202981Z",
     "shell.execute_reply": "2023-08-29T07:18:50.201844Z"
    },
    "papermill": {
     "duration": 1.084625,
     "end_time": "2023-08-29T07:18:50.205206",
     "exception": false,
     "start_time": "2023-08-29T07:18:49.120581",
     "status": "completed"
    },
    "tags": []
   },
   "outputs": [
    {
     "name": "stderr",
     "output_type": "stream",
     "text": [
      "/opt/conda/lib/python3.10/site-packages/scipy/__init__.py:146: UserWarning: A NumPy version >=1.16.5 and <1.23.0 is required for this version of SciPy (detected version 1.23.5\n",
      "  warnings.warn(f\"A NumPy version >={np_minversion} and <{np_maxversion}\"\n"
     ]
    }
   ],
   "source": [
    "from sklearn.preprocessing import OneHotEncoder\n",
    "from pandas import DataFrame, Series\n",
    "from typing import Union, Literal"
   ]
  },
  {
   "cell_type": "markdown",
   "id": "36cefe2a",
   "metadata": {
    "papermill": {
     "duration": 0.002951,
     "end_time": "2023-08-29T07:18:50.211492",
     "exception": false,
     "start_time": "2023-08-29T07:18:50.208541",
     "status": "completed"
    },
    "tags": []
   },
   "source": [
    "### Continuous -> discrete"
   ]
  },
  {
   "cell_type": "code",
   "execution_count": 3,
   "id": "2f1642a0",
   "metadata": {
    "execution": {
     "iopub.execute_input": "2023-08-29T07:18:50.219105Z",
     "iopub.status.busy": "2023-08-29T07:18:50.218736Z",
     "iopub.status.idle": "2023-08-29T07:18:50.226649Z",
     "shell.execute_reply": "2023-08-29T07:18:50.225585Z"
    },
    "papermill": {
     "duration": 0.014484,
     "end_time": "2023-08-29T07:18:50.229023",
     "exception": false,
     "start_time": "2023-08-29T07:18:50.214539",
     "status": "completed"
    },
    "tags": []
   },
   "outputs": [],
   "source": [
    "def convertBMIIndexToObesityCategory(bmi_index: float, log_warnings: bool = False) -> Literal[\"Underweight\", \"Healthy weight\",\"Overweight\",\"Obese\"]:\n",
    "    \"\"\"\n",
    "    Converts BMI index to a corresponding obesity category.\n",
    "    \"\"\"\n",
    "    if bmi_index < 9 and log_warnings:\n",
    "         print(f\"Very low BMI index encountered: {bmi_index}.\")\n",
    "    if bmi_index < 18.5:\n",
    "        return \"Underweight\"\n",
    "    if bmi_index < 24.9:\n",
    "        return \"Healthy weight\"\n",
    "    if bmi_index < 29.9:\n",
    "         return \"Overweight\"\n",
    "    if bmi_index > 186 and log_warnings:\n",
    "         print(f\"Very high BMI index encountered: {bmi_index}.\")\n",
    "    return \"Obese\"\n",
    "    \n",
    "def convertBMIIndexColumnToObesityCategories(bmi_column: Series) -> Series:\n",
    "    \"\"\"\n",
    "    Converts BMI indices in column to obesity category.\n",
    "    \"\"\"\n",
    "    category_list = [None] * len(bmi_column)\n",
    "    for sample_index, bmi_index in enumerate(bmi_column):\n",
    "        category_list[sample_index] = convertBMIIndexToObesityCategory(bmi_index, log_warnings = True)\n",
    "    return Series(category_list, dtype = 'category')"
   ]
  },
  {
   "cell_type": "markdown",
   "id": "cf6bd4e8",
   "metadata": {
    "papermill": {
     "duration": 0.003236,
     "end_time": "2023-08-29T07:18:50.236194",
     "exception": false,
     "start_time": "2023-08-29T07:18:50.232958",
     "status": "completed"
    },
    "tags": []
   },
   "source": [
    "### Discrete -> one-hot encoded"
   ]
  },
  {
   "cell_type": "code",
   "execution_count": 4,
   "id": "e48947e2",
   "metadata": {
    "execution": {
     "iopub.execute_input": "2023-08-29T07:18:50.245075Z",
     "iopub.status.busy": "2023-08-29T07:18:50.244193Z",
     "iopub.status.idle": "2023-08-29T07:18:50.250650Z",
     "shell.execute_reply": "2023-08-29T07:18:50.249992Z"
    },
    "papermill": {
     "duration": 0.01274,
     "end_time": "2023-08-29T07:18:50.252578",
     "exception": false,
     "start_time": "2023-08-29T07:18:50.239838",
     "status": "completed"
    },
    "tags": []
   },
   "outputs": [],
   "source": [
    "def oneHotEncodeBMIColumn(dataset: DataFrame, feature_column_name: str) -> DataFrame:\n",
    "    \"\"\"\n",
    "    Converts BMI column in dataset into series of one hot encoded obesity categories.\n",
    "    ---\n",
    "    Parameters:\n",
    "    \n",
    "    - `dataset`: DataFrame that contains column to be converted.\n",
    "    - `feature_column_index`: index of feature's column.\n",
    "    \n",
    "    Returns:\n",
    "    \n",
    "    A DataFrame with selected column categorized and one hot encoded.\n",
    "    \"\"\"\n",
    "    dataset_has_correct_type: bool = isinstance(dataset, DataFrame)\n",
    "    if not dataset_has_correct_type:\n",
    "        dataset_type_name = type(dataset)\n",
    "        raise TypeError(\"Dataset has incorrect type; use pandas.DataFrame.\")\n",
    "    try:\n",
    "        dataset[feature_column_name]\n",
    "    except KeyError:\n",
    "        raise IndexError(f\"Incorrect feature column name: {feature_column_name}\")\n",
    "    dataset[feature_column_name] = convertBMIIndexColumnToObesityCategories(dataset[feature_column_name])\n",
    "    encoder = OneHotEncoder(sparse_output = False)\n",
    "    feature_encoded = DataFrame(encoder.fit_transform(dataset[[feature_column_name]]))\n",
    "    feature_encoded.columns = encoder.get_feature_names_out([feature_column_name])\n",
    "    dataset.drop([feature_column_name], axis = 1, inplace = True)\n",
    "    return (pd.concat([dataset, feature_encoded], axis=1))"
   ]
  },
  {
   "cell_type": "code",
   "execution_count": 5,
   "id": "2c7b125d",
   "metadata": {
    "execution": {
     "iopub.execute_input": "2023-08-29T07:18:50.260813Z",
     "iopub.status.busy": "2023-08-29T07:18:50.260047Z",
     "iopub.status.idle": "2023-08-29T07:18:50.498015Z",
     "shell.execute_reply": "2023-08-29T07:18:50.496234Z"
    },
    "papermill": {
     "duration": 0.244662,
     "end_time": "2023-08-29T07:18:50.500646",
     "exception": false,
     "start_time": "2023-08-29T07:18:50.255984",
     "status": "completed"
    },
    "tags": []
   },
   "outputs": [
    {
     "name": "stdout",
     "output_type": "stream",
     "text": [
      "   Diabetes_binary  HighBP  HighChol  CholCheck         BMI  Smoker  Stroke  \\\n",
      "0              0.0     1.0       0.0        1.0  Overweight     0.0     0.0   \n",
      "1              0.0     1.0       1.0        1.0  Overweight     1.0     1.0   \n",
      "2              0.0     0.0       0.0        1.0  Overweight     0.0     0.0   \n",
      "3              0.0     1.0       1.0        1.0  Overweight     1.0     0.0   \n",
      "4              0.0     0.0       0.0        1.0  Overweight     1.0     0.0   \n",
      "\n",
      "   HeartDiseaseorAttack  PhysActivity  Fruits  ...  AnyHealthcare  \\\n",
      "0                   0.0           1.0     0.0  ...            1.0   \n",
      "1                   0.0           0.0     1.0  ...            1.0   \n",
      "2                   0.0           1.0     1.0  ...            1.0   \n",
      "3                   0.0           1.0     1.0  ...            1.0   \n",
      "4                   0.0           1.0     1.0  ...            1.0   \n",
      "\n",
      "   NoDocbcCost  GenHlth  MentHlth  PhysHlth  DiffWalk  Sex   Age  Education  \\\n",
      "0          0.0      3.0       5.0      30.0       0.0  1.0   4.0        6.0   \n",
      "1          0.0      3.0       0.0       0.0       0.0  1.0  12.0        6.0   \n",
      "2          0.0      1.0       0.0      10.0       0.0  1.0  13.0        6.0   \n",
      "3          0.0      3.0       0.0       3.0       0.0  1.0  11.0        6.0   \n",
      "4          0.0      2.0       0.0       0.0       0.0  0.0   8.0        5.0   \n",
      "\n",
      "   Income  \n",
      "0     8.0  \n",
      "1     8.0  \n",
      "2     8.0  \n",
      "3     8.0  \n",
      "4     8.0  \n",
      "\n",
      "[5 rows x 22 columns]\n"
     ]
    }
   ],
   "source": [
    "# Data import and preprocessing\n",
    "\n",
    "diabetes_dataset_5050_split = pd.read_csv(\"/kaggle/input/diabetes-health-indicators-dataset/diabetes_binary_5050split_health_indicators_BRFSS2015.csv\")\n",
    "diabetes_dataset_5050_split[\"BMI\"] = convertBMIIndexColumnToObesityCategories(diabetes_dataset_5050_split[\"BMI\"])\n",
    "\n",
    "print(diabetes_dataset_5050_split.head())"
   ]
  },
  {
   "cell_type": "code",
   "execution_count": 6,
   "id": "847145c9",
   "metadata": {
    "execution": {
     "iopub.execute_input": "2023-08-29T07:18:50.509638Z",
     "iopub.status.busy": "2023-08-29T07:18:50.509071Z",
     "iopub.status.idle": "2023-08-29T07:18:50.887935Z",
     "shell.execute_reply": "2023-08-29T07:18:50.886479Z"
    },
    "papermill": {
     "duration": 0.386323,
     "end_time": "2023-08-29T07:18:50.890517",
     "exception": false,
     "start_time": "2023-08-29T07:18:50.504194",
     "status": "completed"
    },
    "tags": []
   },
   "outputs": [],
   "source": [
    "import numpy as np\n",
    "import pandas as pd\n",
    "import seaborn as sns\n",
    "import matplotlib.pyplot as plt"
   ]
  },
  {
   "cell_type": "code",
   "execution_count": 7,
   "id": "c64cadbe",
   "metadata": {
    "execution": {
     "iopub.execute_input": "2023-08-29T07:18:50.898701Z",
     "iopub.status.busy": "2023-08-29T07:18:50.898330Z",
     "iopub.status.idle": "2023-08-29T07:18:50.927072Z",
     "shell.execute_reply": "2023-08-29T07:18:50.925849Z"
    },
    "papermill": {
     "duration": 0.035003,
     "end_time": "2023-08-29T07:18:50.929124",
     "exception": false,
     "start_time": "2023-08-29T07:18:50.894121",
     "status": "completed"
    },
    "tags": []
   },
   "outputs": [
    {
     "data": {
      "text/html": [
       "<div>\n",
       "<style scoped>\n",
       "    .dataframe tbody tr th:only-of-type {\n",
       "        vertical-align: middle;\n",
       "    }\n",
       "\n",
       "    .dataframe tbody tr th {\n",
       "        vertical-align: top;\n",
       "    }\n",
       "\n",
       "    .dataframe thead th {\n",
       "        text-align: right;\n",
       "    }\n",
       "</style>\n",
       "<table border=\"1\" class=\"dataframe\">\n",
       "  <thead>\n",
       "    <tr style=\"text-align: right;\">\n",
       "      <th></th>\n",
       "      <th>Diabetes_binary</th>\n",
       "      <th>HighBP</th>\n",
       "      <th>HighChol</th>\n",
       "      <th>CholCheck</th>\n",
       "      <th>BMI</th>\n",
       "      <th>Smoker</th>\n",
       "      <th>Stroke</th>\n",
       "      <th>HeartDiseaseorAttack</th>\n",
       "      <th>PhysActivity</th>\n",
       "      <th>Fruits</th>\n",
       "      <th>...</th>\n",
       "      <th>AnyHealthcare</th>\n",
       "      <th>NoDocbcCost</th>\n",
       "      <th>GenHlth</th>\n",
       "      <th>MentHlth</th>\n",
       "      <th>PhysHlth</th>\n",
       "      <th>DiffWalk</th>\n",
       "      <th>Sex</th>\n",
       "      <th>Age</th>\n",
       "      <th>Education</th>\n",
       "      <th>Income</th>\n",
       "    </tr>\n",
       "  </thead>\n",
       "  <tbody>\n",
       "    <tr>\n",
       "      <th>0</th>\n",
       "      <td>0.0</td>\n",
       "      <td>1.0</td>\n",
       "      <td>0.0</td>\n",
       "      <td>1.0</td>\n",
       "      <td>Overweight</td>\n",
       "      <td>0.0</td>\n",
       "      <td>0.0</td>\n",
       "      <td>0.0</td>\n",
       "      <td>1.0</td>\n",
       "      <td>0.0</td>\n",
       "      <td>...</td>\n",
       "      <td>1.0</td>\n",
       "      <td>0.0</td>\n",
       "      <td>3.0</td>\n",
       "      <td>5.0</td>\n",
       "      <td>30.0</td>\n",
       "      <td>0.0</td>\n",
       "      <td>1.0</td>\n",
       "      <td>4.0</td>\n",
       "      <td>6.0</td>\n",
       "      <td>8.0</td>\n",
       "    </tr>\n",
       "    <tr>\n",
       "      <th>1</th>\n",
       "      <td>0.0</td>\n",
       "      <td>1.0</td>\n",
       "      <td>1.0</td>\n",
       "      <td>1.0</td>\n",
       "      <td>Overweight</td>\n",
       "      <td>1.0</td>\n",
       "      <td>1.0</td>\n",
       "      <td>0.0</td>\n",
       "      <td>0.0</td>\n",
       "      <td>1.0</td>\n",
       "      <td>...</td>\n",
       "      <td>1.0</td>\n",
       "      <td>0.0</td>\n",
       "      <td>3.0</td>\n",
       "      <td>0.0</td>\n",
       "      <td>0.0</td>\n",
       "      <td>0.0</td>\n",
       "      <td>1.0</td>\n",
       "      <td>12.0</td>\n",
       "      <td>6.0</td>\n",
       "      <td>8.0</td>\n",
       "    </tr>\n",
       "    <tr>\n",
       "      <th>2</th>\n",
       "      <td>0.0</td>\n",
       "      <td>0.0</td>\n",
       "      <td>0.0</td>\n",
       "      <td>1.0</td>\n",
       "      <td>Overweight</td>\n",
       "      <td>0.0</td>\n",
       "      <td>0.0</td>\n",
       "      <td>0.0</td>\n",
       "      <td>1.0</td>\n",
       "      <td>1.0</td>\n",
       "      <td>...</td>\n",
       "      <td>1.0</td>\n",
       "      <td>0.0</td>\n",
       "      <td>1.0</td>\n",
       "      <td>0.0</td>\n",
       "      <td>10.0</td>\n",
       "      <td>0.0</td>\n",
       "      <td>1.0</td>\n",
       "      <td>13.0</td>\n",
       "      <td>6.0</td>\n",
       "      <td>8.0</td>\n",
       "    </tr>\n",
       "    <tr>\n",
       "      <th>3</th>\n",
       "      <td>0.0</td>\n",
       "      <td>1.0</td>\n",
       "      <td>1.0</td>\n",
       "      <td>1.0</td>\n",
       "      <td>Overweight</td>\n",
       "      <td>1.0</td>\n",
       "      <td>0.0</td>\n",
       "      <td>0.0</td>\n",
       "      <td>1.0</td>\n",
       "      <td>1.0</td>\n",
       "      <td>...</td>\n",
       "      <td>1.0</td>\n",
       "      <td>0.0</td>\n",
       "      <td>3.0</td>\n",
       "      <td>0.0</td>\n",
       "      <td>3.0</td>\n",
       "      <td>0.0</td>\n",
       "      <td>1.0</td>\n",
       "      <td>11.0</td>\n",
       "      <td>6.0</td>\n",
       "      <td>8.0</td>\n",
       "    </tr>\n",
       "    <tr>\n",
       "      <th>4</th>\n",
       "      <td>0.0</td>\n",
       "      <td>0.0</td>\n",
       "      <td>0.0</td>\n",
       "      <td>1.0</td>\n",
       "      <td>Overweight</td>\n",
       "      <td>1.0</td>\n",
       "      <td>0.0</td>\n",
       "      <td>0.0</td>\n",
       "      <td>1.0</td>\n",
       "      <td>1.0</td>\n",
       "      <td>...</td>\n",
       "      <td>1.0</td>\n",
       "      <td>0.0</td>\n",
       "      <td>2.0</td>\n",
       "      <td>0.0</td>\n",
       "      <td>0.0</td>\n",
       "      <td>0.0</td>\n",
       "      <td>0.0</td>\n",
       "      <td>8.0</td>\n",
       "      <td>5.0</td>\n",
       "      <td>8.0</td>\n",
       "    </tr>\n",
       "  </tbody>\n",
       "</table>\n",
       "<p>5 rows × 22 columns</p>\n",
       "</div>"
      ],
      "text/plain": [
       "   Diabetes_binary  HighBP  HighChol  CholCheck         BMI  Smoker  Stroke  \\\n",
       "0              0.0     1.0       0.0        1.0  Overweight     0.0     0.0   \n",
       "1              0.0     1.0       1.0        1.0  Overweight     1.0     1.0   \n",
       "2              0.0     0.0       0.0        1.0  Overweight     0.0     0.0   \n",
       "3              0.0     1.0       1.0        1.0  Overweight     1.0     0.0   \n",
       "4              0.0     0.0       0.0        1.0  Overweight     1.0     0.0   \n",
       "\n",
       "   HeartDiseaseorAttack  PhysActivity  Fruits  ...  AnyHealthcare  \\\n",
       "0                   0.0           1.0     0.0  ...            1.0   \n",
       "1                   0.0           0.0     1.0  ...            1.0   \n",
       "2                   0.0           1.0     1.0  ...            1.0   \n",
       "3                   0.0           1.0     1.0  ...            1.0   \n",
       "4                   0.0           1.0     1.0  ...            1.0   \n",
       "\n",
       "   NoDocbcCost  GenHlth  MentHlth  PhysHlth  DiffWalk  Sex   Age  Education  \\\n",
       "0          0.0      3.0       5.0      30.0       0.0  1.0   4.0        6.0   \n",
       "1          0.0      3.0       0.0       0.0       0.0  1.0  12.0        6.0   \n",
       "2          0.0      1.0       0.0      10.0       0.0  1.0  13.0        6.0   \n",
       "3          0.0      3.0       0.0       3.0       0.0  1.0  11.0        6.0   \n",
       "4          0.0      2.0       0.0       0.0       0.0  0.0   8.0        5.0   \n",
       "\n",
       "   Income  \n",
       "0     8.0  \n",
       "1     8.0  \n",
       "2     8.0  \n",
       "3     8.0  \n",
       "4     8.0  \n",
       "\n",
       "[5 rows x 22 columns]"
      ]
     },
     "execution_count": 7,
     "metadata": {},
     "output_type": "execute_result"
    }
   ],
   "source": [
    "df = diabetes_dataset_5050_split\n",
    "df.head()\n",
    "\n"
   ]
  },
  {
   "cell_type": "code",
   "execution_count": 8,
   "id": "2bd2ab7a",
   "metadata": {
    "execution": {
     "iopub.execute_input": "2023-08-29T07:18:50.937754Z",
     "iopub.status.busy": "2023-08-29T07:18:50.937344Z",
     "iopub.status.idle": "2023-08-29T07:18:50.959793Z",
     "shell.execute_reply": "2023-08-29T07:18:50.958476Z"
    },
    "papermill": {
     "duration": 0.029225,
     "end_time": "2023-08-29T07:18:50.961955",
     "exception": false,
     "start_time": "2023-08-29T07:18:50.932730",
     "status": "completed"
    },
    "tags": []
   },
   "outputs": [
    {
     "name": "stdout",
     "output_type": "stream",
     "text": [
      "<class 'pandas.core.frame.DataFrame'>\n",
      "RangeIndex: 70692 entries, 0 to 70691\n",
      "Data columns (total 22 columns):\n",
      " #   Column                Non-Null Count  Dtype   \n",
      "---  ------                --------------  -----   \n",
      " 0   Diabetes_binary       70692 non-null  float64 \n",
      " 1   HighBP                70692 non-null  float64 \n",
      " 2   HighChol              70692 non-null  float64 \n",
      " 3   CholCheck             70692 non-null  float64 \n",
      " 4   BMI                   70692 non-null  category\n",
      " 5   Smoker                70692 non-null  float64 \n",
      " 6   Stroke                70692 non-null  float64 \n",
      " 7   HeartDiseaseorAttack  70692 non-null  float64 \n",
      " 8   PhysActivity          70692 non-null  float64 \n",
      " 9   Fruits                70692 non-null  float64 \n",
      " 10  Veggies               70692 non-null  float64 \n",
      " 11  HvyAlcoholConsump     70692 non-null  float64 \n",
      " 12  AnyHealthcare         70692 non-null  float64 \n",
      " 13  NoDocbcCost           70692 non-null  float64 \n",
      " 14  GenHlth               70692 non-null  float64 \n",
      " 15  MentHlth              70692 non-null  float64 \n",
      " 16  PhysHlth              70692 non-null  float64 \n",
      " 17  DiffWalk              70692 non-null  float64 \n",
      " 18  Sex                   70692 non-null  float64 \n",
      " 19  Age                   70692 non-null  float64 \n",
      " 20  Education             70692 non-null  float64 \n",
      " 21  Income                70692 non-null  float64 \n",
      "dtypes: category(1), float64(21)\n",
      "memory usage: 11.4 MB\n"
     ]
    }
   ],
   "source": [
    "df.info()\n"
   ]
  }
 ],
 "metadata": {
  "kernelspec": {
   "display_name": "Python 3",
   "language": "python",
   "name": "python3"
  },
  "language_info": {
   "codemirror_mode": {
    "name": "ipython",
    "version": 3
   },
   "file_extension": ".py",
   "mimetype": "text/x-python",
   "name": "python",
   "nbconvert_exporter": "python",
   "pygments_lexer": "ipython3",
   "version": "3.10.12"
  },
  "papermill": {
   "default_parameters": {},
   "duration": 10.773021,
   "end_time": "2023-08-29T07:18:51.886767",
   "environment_variables": {},
   "exception": null,
   "input_path": "__notebook__.ipynb",
   "output_path": "__notebook__.ipynb",
   "parameters": {},
   "start_time": "2023-08-29T07:18:41.113746",
   "version": "2.4.0"
  }
 },
 "nbformat": 4,
 "nbformat_minor": 5
}
