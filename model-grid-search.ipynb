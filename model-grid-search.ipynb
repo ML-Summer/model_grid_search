{
 "cells": [
  {
   "cell_type": "code",
   "execution_count": 1,
   "id": "4ca67b2e",
   "metadata": {
    "_cell_guid": "b1076dfc-b9ad-4769-8c92-a6c4dae69d19",
    "_uuid": "8f2839f25d086af736a60e9eeb907d3b93b6e0e5",
    "execution": {
     "iopub.execute_input": "2023-08-28T08:51:36.583481Z",
     "iopub.status.busy": "2023-08-28T08:51:36.582985Z",
     "iopub.status.idle": "2023-08-28T08:51:36.607477Z",
     "shell.execute_reply": "2023-08-28T08:51:36.605492Z"
    },
    "papermill": {
     "duration": 0.03229,
     "end_time": "2023-08-28T08:51:36.609441",
     "exception": false,
     "start_time": "2023-08-28T08:51:36.577151",
     "status": "completed"
    },
    "tags": []
   },
   "outputs": [
    {
     "name": "stdout",
     "output_type": "stream",
     "text": [
      "/kaggle/input/diabetes-health-indicators-dataset/diabetes_binary_5050split_health_indicators_BRFSS2015.csv\n",
      "/kaggle/input/diabetes-health-indicators-dataset/diabetes_binary_health_indicators_BRFSS2015.csv\n",
      "/kaggle/input/diabetes-health-indicators-dataset/diabetes_012_health_indicators_BRFSS2015.csv\n"
     ]
    }
   ],
   "source": [
    "# This Python 3 environment comes with many helpful analytics libraries installed\n",
    "# It is defined by the kaggle/python Docker image: https://github.com/kaggle/docker-python\n",
    "# For example, here's several helpful packages to load\n",
    "\n",
    "import numpy as np # linear algebra\n",
    "import pandas as pd # data processing, CSV file I/O (e.g. pd.read_csv)\n",
    "\n",
    "# Input data files are available in the read-only \"../input/\" directory\n",
    "# For example, running this (by clicking run or pressing Shift+Enter) will list all files under the input directory\n",
    "\n",
    "import os\n",
    "for dirname, _, filenames in os.walk('/kaggle/input'):\n",
    "    for filename in filenames:\n",
    "        print(os.path.join(dirname, filename))\n",
    "\n",
    "# You can write up to 20GB to the current directory (/kaggle/working/) that gets preserved as output when you create a version using \"Save & Run All\" \n",
    "# You can also write temporary files to /kaggle/temp/, but they won't be saved outside of the current session"
   ]
  },
  {
   "cell_type": "markdown",
   "id": "34ca749d",
   "metadata": {
    "papermill": {
     "duration": 0.003125,
     "end_time": "2023-08-28T08:51:36.616521",
     "exception": false,
     "start_time": "2023-08-28T08:51:36.613396",
     "status": "completed"
    },
    "tags": []
   },
   "source": [
    "# PLAN OF WORK\n",
    "\n",
    "1. BMI ---> categorical (bins)\n",
    "2. scale data (StandardScaler)\n",
    "3. EDA:\n",
    "    - correlation etc.\n",
    "  \n"
   ]
  },
  {
   "cell_type": "markdown",
   "id": "74450372",
   "metadata": {
    "papermill": {
     "duration": 0.002958,
     "end_time": "2023-08-28T08:51:36.622717",
     "exception": false,
     "start_time": "2023-08-28T08:51:36.619759",
     "status": "completed"
    },
    "tags": []
   },
   "source": [
    "# Data preparation\n",
    "\n",
    "## Changing continuous feature into a bunch of binary ones (continuous -> categories -> one hot encoding)"
   ]
  },
  {
   "cell_type": "markdown",
   "id": "d80f67ab",
   "metadata": {
    "papermill": {
     "duration": 0.002795,
     "end_time": "2023-08-28T08:51:36.628612",
     "exception": false,
     "start_time": "2023-08-28T08:51:36.625817",
     "status": "completed"
    },
    "tags": []
   },
   "source": [
    "### Module imports"
   ]
  },
  {
   "cell_type": "code",
   "execution_count": 2,
   "id": "c2725194",
   "metadata": {
    "execution": {
     "iopub.execute_input": "2023-08-28T08:51:36.636890Z",
     "iopub.status.busy": "2023-08-28T08:51:36.635899Z",
     "iopub.status.idle": "2023-08-28T08:51:37.754799Z",
     "shell.execute_reply": "2023-08-28T08:51:37.753703Z"
    },
    "papermill": {
     "duration": 1.125966,
     "end_time": "2023-08-28T08:51:37.757632",
     "exception": false,
     "start_time": "2023-08-28T08:51:36.631666",
     "status": "completed"
    },
    "tags": []
   },
   "outputs": [
    {
     "name": "stderr",
     "output_type": "stream",
     "text": [
      "/opt/conda/lib/python3.10/site-packages/scipy/__init__.py:146: UserWarning: A NumPy version >=1.16.5 and <1.23.0 is required for this version of SciPy (detected version 1.23.5\n",
      "  warnings.warn(f\"A NumPy version >={np_minversion} and <{np_maxversion}\"\n"
     ]
    }
   ],
   "source": [
    "from sklearn.preprocessing import OneHotEncoder\n",
    "from pandas import DataFrame, Series\n",
    "from typing import Union, Literal\n",
    "from math import sqrt, ceil"
   ]
  },
  {
   "cell_type": "markdown",
   "id": "b6839ae3",
   "metadata": {
    "papermill": {
     "duration": 0.002933,
     "end_time": "2023-08-28T08:51:37.763866",
     "exception": false,
     "start_time": "2023-08-28T08:51:37.760933",
     "status": "completed"
    },
    "tags": []
   },
   "source": [
    "### Continuous -> discrete"
   ]
  },
  {
   "cell_type": "code",
   "execution_count": 3,
   "id": "70f73066",
   "metadata": {
    "execution": {
     "iopub.execute_input": "2023-08-28T08:51:37.771466Z",
     "iopub.status.busy": "2023-08-28T08:51:37.771102Z",
     "iopub.status.idle": "2023-08-28T08:51:37.778451Z",
     "shell.execute_reply": "2023-08-28T08:51:37.777446Z"
    },
    "papermill": {
     "duration": 0.013562,
     "end_time": "2023-08-28T08:51:37.780397",
     "exception": false,
     "start_time": "2023-08-28T08:51:37.766835",
     "status": "completed"
    },
    "tags": []
   },
   "outputs": [],
   "source": [
    "def convertBMIIndexToObesityCategory(bmi_index: float, log_warnings: bool = False) -> Literal[\"Underweight\", \"Healthy weight\",\"Overweight\",\"Obese\"]:\n",
    "    \"\"\"\n",
    "    Converts BMI index to a corresponding obesity category.\n",
    "    \"\"\"\n",
    "    if bmi_index < 9 and log_warnings:\n",
    "         print(f\"Very low BMI index encountered: {bmi_index}.\")\n",
    "    if bmi_index < 18.5:\n",
    "        return \"Underweight\"\n",
    "    if bmi_index < 24.9:\n",
    "        return \"Healthy weight\"\n",
    "    if bmi_index < 29.9:\n",
    "         return \"Overweight\"\n",
    "    if bmi_index > 186 and log_warnings:\n",
    "         print(f\"Very high BMI index encountered: {bmi_index}.\")\n",
    "    return \"Obese\"\n",
    "    \n",
    "def convertBMIIndexColumnToObesityCategories(bmi_column: Series) -> Series:\n",
    "    \"\"\"\n",
    "    Converts BMI indices in column to obesity category.\n",
    "    \"\"\"\n",
    "    category_list = [None] * len(bmi_column)\n",
    "    for sample_index, bmi_index in enumerate(bmi_column):\n",
    "        category_list[sample_index] = convertBMIIndexToObesityCategory(bmi_index, log_warnings = True)\n",
    "    return Series(category_list, dtype = 'category')"
   ]
  },
  {
   "cell_type": "markdown",
   "id": "de6b071c",
   "metadata": {
    "papermill": {
     "duration": 0.003134,
     "end_time": "2023-08-28T08:51:37.787103",
     "exception": false,
     "start_time": "2023-08-28T08:51:37.783969",
     "status": "completed"
    },
    "tags": []
   },
   "source": [
    "### Discrete -> one-hot encoded"
   ]
  },
  {
   "cell_type": "code",
   "execution_count": 4,
   "id": "17c7038e",
   "metadata": {
    "execution": {
     "iopub.execute_input": "2023-08-28T08:51:37.795276Z",
     "iopub.status.busy": "2023-08-28T08:51:37.794932Z",
     "iopub.status.idle": "2023-08-28T08:51:37.802849Z",
     "shell.execute_reply": "2023-08-28T08:51:37.801652Z"
    },
    "papermill": {
     "duration": 0.014298,
     "end_time": "2023-08-28T08:51:37.804683",
     "exception": false,
     "start_time": "2023-08-28T08:51:37.790385",
     "status": "completed"
    },
    "tags": []
   },
   "outputs": [],
   "source": [
    "def oneHotEncodeBMIColumn(dataset: DataFrame, feature_column_name: str) -> DataFrame:\n",
    "    \"\"\"\n",
    "    Converts BMI column in dataset into series of one hot encoded obesity categories.\n",
    "    ---\n",
    "    Parameters:\n",
    "    \n",
    "    - `dataset`: DataFrame that contains column to be converted.\n",
    "    - `feature_column_index`: index of feature's column.\n",
    "    \n",
    "    Returns:\n",
    "    \n",
    "    A DataFrame with selected column categorized and one hot encoded.\n",
    "    \"\"\"\n",
    "    dataset_has_correct_type: bool = isinstance(dataset, DataFrame)\n",
    "    if not dataset_has_correct_type:\n",
    "        dataset_type_name = type(dataset)\n",
    "        raise TypeError(\"Dataset has incorrect type; use pandas.DataFrame.\")\n",
    "    try:\n",
    "        dataset[feature_column_name]\n",
    "    except KeyError:\n",
    "        raise IndexError(f\"Incorrect feature column name: {feature_column_name}\")\n",
    "    dataset[feature_column_name] = convertBMIIndexColumnToObesityCategories(dataset[feature_column_name])\n",
    "    encoder = OneHotEncoder(sparse_output = False)\n",
    "    feature_encoded = DataFrame(encoder.fit_transform(dataset[[feature_column_name]]))\n",
    "    feature_encoded.columns = encoder.get_feature_names_out([feature_column_name])\n",
    "    dataset.drop([feature_column_name], axis = 1, inplace = True)\n",
    "    return (pd.concat([dataset, feature_encoded], axis=1))"
   ]
  },
  {
   "cell_type": "code",
   "execution_count": 5,
   "id": "d013929d",
   "metadata": {
    "execution": {
     "iopub.execute_input": "2023-08-28T08:51:37.813093Z",
     "iopub.status.busy": "2023-08-28T08:51:37.812710Z",
     "iopub.status.idle": "2023-08-28T08:51:38.076192Z",
     "shell.execute_reply": "2023-08-28T08:51:38.075323Z"
    },
    "papermill": {
     "duration": 0.270092,
     "end_time": "2023-08-28T08:51:38.078209",
     "exception": false,
     "start_time": "2023-08-28T08:51:37.808117",
     "status": "completed"
    },
    "tags": []
   },
   "outputs": [
    {
     "name": "stdout",
     "output_type": "stream",
     "text": [
      "   Diabetes_binary  HighBP  HighChol  CholCheck  Smoker  Stroke  \\\n",
      "0              0.0     1.0       0.0        1.0     0.0     0.0   \n",
      "1              0.0     1.0       1.0        1.0     1.0     1.0   \n",
      "2              0.0     0.0       0.0        1.0     0.0     0.0   \n",
      "3              0.0     1.0       1.0        1.0     1.0     0.0   \n",
      "4              0.0     0.0       0.0        1.0     1.0     0.0   \n",
      "\n",
      "   HeartDiseaseorAttack  PhysActivity  Fruits  Veggies  ...  PhysHlth  \\\n",
      "0                   0.0           1.0     0.0      1.0  ...      30.0   \n",
      "1                   0.0           0.0     1.0      0.0  ...       0.0   \n",
      "2                   0.0           1.0     1.0      1.0  ...      10.0   \n",
      "3                   0.0           1.0     1.0      1.0  ...       3.0   \n",
      "4                   0.0           1.0     1.0      1.0  ...       0.0   \n",
      "\n",
      "   DiffWalk  Sex   Age  Education  Income  BMI_Healthy weight  BMI_Obese  \\\n",
      "0       0.0  1.0   4.0        6.0     8.0                 0.0        0.0   \n",
      "1       0.0  1.0  12.0        6.0     8.0                 0.0        0.0   \n",
      "2       0.0  1.0  13.0        6.0     8.0                 0.0        0.0   \n",
      "3       0.0  1.0  11.0        6.0     8.0                 0.0        0.0   \n",
      "4       0.0  0.0   8.0        5.0     8.0                 0.0        0.0   \n",
      "\n",
      "   BMI_Overweight  BMI_Underweight  \n",
      "0             1.0              0.0  \n",
      "1             1.0              0.0  \n",
      "2             1.0              0.0  \n",
      "3             1.0              0.0  \n",
      "4             1.0              0.0  \n",
      "\n",
      "[5 rows x 25 columns]\n"
     ]
    }
   ],
   "source": [
    "# Data import and preprocessing\n",
    "\n",
    "diabetes_dataset_5050_split = pd.read_csv(\"/kaggle/input/diabetes-health-indicators-dataset/diabetes_binary_5050split_health_indicators_BRFSS2015.csv\")\n",
    "diabetes_dataset_5050_split_ohencoded = oneHotEncodeBMIColumn(diabetes_dataset_5050_split, \"BMI\")\n",
    "print(diabetes_dataset_5050_split_ohencoded.head())"
   ]
  },
  {
   "cell_type": "code",
   "execution_count": 6,
   "id": "f0a3e917",
   "metadata": {
    "execution": {
     "iopub.execute_input": "2023-08-28T08:51:38.086250Z",
     "iopub.status.busy": "2023-08-28T08:51:38.085918Z",
     "iopub.status.idle": "2023-08-28T08:51:38.481422Z",
     "shell.execute_reply": "2023-08-28T08:51:38.480404Z"
    },
    "papermill": {
     "duration": 0.402138,
     "end_time": "2023-08-28T08:51:38.483835",
     "exception": false,
     "start_time": "2023-08-28T08:51:38.081697",
     "status": "completed"
    },
    "tags": []
   },
   "outputs": [],
   "source": [
    "import numpy as np\n",
    "import pandas as pd\n",
    "import seaborn as sns\n",
    "import matplotlib.pyplot as plt"
   ]
  },
  {
   "cell_type": "code",
   "execution_count": 7,
   "id": "838bcf0c",
   "metadata": {
    "execution": {
     "iopub.execute_input": "2023-08-28T08:51:38.492361Z",
     "iopub.status.busy": "2023-08-28T08:51:38.491990Z",
     "iopub.status.idle": "2023-08-28T08:51:38.522196Z",
     "shell.execute_reply": "2023-08-28T08:51:38.521054Z"
    },
    "papermill": {
     "duration": 0.036588,
     "end_time": "2023-08-28T08:51:38.523981",
     "exception": false,
     "start_time": "2023-08-28T08:51:38.487393",
     "status": "completed"
    },
    "tags": []
   },
   "outputs": [
    {
     "data": {
      "text/html": [
       "<div>\n",
       "<style scoped>\n",
       "    .dataframe tbody tr th:only-of-type {\n",
       "        vertical-align: middle;\n",
       "    }\n",
       "\n",
       "    .dataframe tbody tr th {\n",
       "        vertical-align: top;\n",
       "    }\n",
       "\n",
       "    .dataframe thead th {\n",
       "        text-align: right;\n",
       "    }\n",
       "</style>\n",
       "<table border=\"1\" class=\"dataframe\">\n",
       "  <thead>\n",
       "    <tr style=\"text-align: right;\">\n",
       "      <th></th>\n",
       "      <th>Diabetes_binary</th>\n",
       "      <th>HighBP</th>\n",
       "      <th>HighChol</th>\n",
       "      <th>CholCheck</th>\n",
       "      <th>Smoker</th>\n",
       "      <th>Stroke</th>\n",
       "      <th>HeartDiseaseorAttack</th>\n",
       "      <th>PhysActivity</th>\n",
       "      <th>Fruits</th>\n",
       "      <th>Veggies</th>\n",
       "      <th>...</th>\n",
       "      <th>PhysHlth</th>\n",
       "      <th>DiffWalk</th>\n",
       "      <th>Sex</th>\n",
       "      <th>Age</th>\n",
       "      <th>Education</th>\n",
       "      <th>Income</th>\n",
       "      <th>BMI_Healthy weight</th>\n",
       "      <th>BMI_Obese</th>\n",
       "      <th>BMI_Overweight</th>\n",
       "      <th>BMI_Underweight</th>\n",
       "    </tr>\n",
       "  </thead>\n",
       "  <tbody>\n",
       "    <tr>\n",
       "      <th>0</th>\n",
       "      <td>0.0</td>\n",
       "      <td>1.0</td>\n",
       "      <td>0.0</td>\n",
       "      <td>1.0</td>\n",
       "      <td>0.0</td>\n",
       "      <td>0.0</td>\n",
       "      <td>0.0</td>\n",
       "      <td>1.0</td>\n",
       "      <td>0.0</td>\n",
       "      <td>1.0</td>\n",
       "      <td>...</td>\n",
       "      <td>30.0</td>\n",
       "      <td>0.0</td>\n",
       "      <td>1.0</td>\n",
       "      <td>4.0</td>\n",
       "      <td>6.0</td>\n",
       "      <td>8.0</td>\n",
       "      <td>0.0</td>\n",
       "      <td>0.0</td>\n",
       "      <td>1.0</td>\n",
       "      <td>0.0</td>\n",
       "    </tr>\n",
       "    <tr>\n",
       "      <th>1</th>\n",
       "      <td>0.0</td>\n",
       "      <td>1.0</td>\n",
       "      <td>1.0</td>\n",
       "      <td>1.0</td>\n",
       "      <td>1.0</td>\n",
       "      <td>1.0</td>\n",
       "      <td>0.0</td>\n",
       "      <td>0.0</td>\n",
       "      <td>1.0</td>\n",
       "      <td>0.0</td>\n",
       "      <td>...</td>\n",
       "      <td>0.0</td>\n",
       "      <td>0.0</td>\n",
       "      <td>1.0</td>\n",
       "      <td>12.0</td>\n",
       "      <td>6.0</td>\n",
       "      <td>8.0</td>\n",
       "      <td>0.0</td>\n",
       "      <td>0.0</td>\n",
       "      <td>1.0</td>\n",
       "      <td>0.0</td>\n",
       "    </tr>\n",
       "    <tr>\n",
       "      <th>2</th>\n",
       "      <td>0.0</td>\n",
       "      <td>0.0</td>\n",
       "      <td>0.0</td>\n",
       "      <td>1.0</td>\n",
       "      <td>0.0</td>\n",
       "      <td>0.0</td>\n",
       "      <td>0.0</td>\n",
       "      <td>1.0</td>\n",
       "      <td>1.0</td>\n",
       "      <td>1.0</td>\n",
       "      <td>...</td>\n",
       "      <td>10.0</td>\n",
       "      <td>0.0</td>\n",
       "      <td>1.0</td>\n",
       "      <td>13.0</td>\n",
       "      <td>6.0</td>\n",
       "      <td>8.0</td>\n",
       "      <td>0.0</td>\n",
       "      <td>0.0</td>\n",
       "      <td>1.0</td>\n",
       "      <td>0.0</td>\n",
       "    </tr>\n",
       "    <tr>\n",
       "      <th>3</th>\n",
       "      <td>0.0</td>\n",
       "      <td>1.0</td>\n",
       "      <td>1.0</td>\n",
       "      <td>1.0</td>\n",
       "      <td>1.0</td>\n",
       "      <td>0.0</td>\n",
       "      <td>0.0</td>\n",
       "      <td>1.0</td>\n",
       "      <td>1.0</td>\n",
       "      <td>1.0</td>\n",
       "      <td>...</td>\n",
       "      <td>3.0</td>\n",
       "      <td>0.0</td>\n",
       "      <td>1.0</td>\n",
       "      <td>11.0</td>\n",
       "      <td>6.0</td>\n",
       "      <td>8.0</td>\n",
       "      <td>0.0</td>\n",
       "      <td>0.0</td>\n",
       "      <td>1.0</td>\n",
       "      <td>0.0</td>\n",
       "    </tr>\n",
       "    <tr>\n",
       "      <th>4</th>\n",
       "      <td>0.0</td>\n",
       "      <td>0.0</td>\n",
       "      <td>0.0</td>\n",
       "      <td>1.0</td>\n",
       "      <td>1.0</td>\n",
       "      <td>0.0</td>\n",
       "      <td>0.0</td>\n",
       "      <td>1.0</td>\n",
       "      <td>1.0</td>\n",
       "      <td>1.0</td>\n",
       "      <td>...</td>\n",
       "      <td>0.0</td>\n",
       "      <td>0.0</td>\n",
       "      <td>0.0</td>\n",
       "      <td>8.0</td>\n",
       "      <td>5.0</td>\n",
       "      <td>8.0</td>\n",
       "      <td>0.0</td>\n",
       "      <td>0.0</td>\n",
       "      <td>1.0</td>\n",
       "      <td>0.0</td>\n",
       "    </tr>\n",
       "  </tbody>\n",
       "</table>\n",
       "<p>5 rows × 25 columns</p>\n",
       "</div>"
      ],
      "text/plain": [
       "   Diabetes_binary  HighBP  HighChol  CholCheck  Smoker  Stroke  \\\n",
       "0              0.0     1.0       0.0        1.0     0.0     0.0   \n",
       "1              0.0     1.0       1.0        1.0     1.0     1.0   \n",
       "2              0.0     0.0       0.0        1.0     0.0     0.0   \n",
       "3              0.0     1.0       1.0        1.0     1.0     0.0   \n",
       "4              0.0     0.0       0.0        1.0     1.0     0.0   \n",
       "\n",
       "   HeartDiseaseorAttack  PhysActivity  Fruits  Veggies  ...  PhysHlth  \\\n",
       "0                   0.0           1.0     0.0      1.0  ...      30.0   \n",
       "1                   0.0           0.0     1.0      0.0  ...       0.0   \n",
       "2                   0.0           1.0     1.0      1.0  ...      10.0   \n",
       "3                   0.0           1.0     1.0      1.0  ...       3.0   \n",
       "4                   0.0           1.0     1.0      1.0  ...       0.0   \n",
       "\n",
       "   DiffWalk  Sex   Age  Education  Income  BMI_Healthy weight  BMI_Obese  \\\n",
       "0       0.0  1.0   4.0        6.0     8.0                 0.0        0.0   \n",
       "1       0.0  1.0  12.0        6.0     8.0                 0.0        0.0   \n",
       "2       0.0  1.0  13.0        6.0     8.0                 0.0        0.0   \n",
       "3       0.0  1.0  11.0        6.0     8.0                 0.0        0.0   \n",
       "4       0.0  0.0   8.0        5.0     8.0                 0.0        0.0   \n",
       "\n",
       "   BMI_Overweight  BMI_Underweight  \n",
       "0             1.0              0.0  \n",
       "1             1.0              0.0  \n",
       "2             1.0              0.0  \n",
       "3             1.0              0.0  \n",
       "4             1.0              0.0  \n",
       "\n",
       "[5 rows x 25 columns]"
      ]
     },
     "execution_count": 7,
     "metadata": {},
     "output_type": "execute_result"
    }
   ],
   "source": [
    "df = diabetes_dataset_5050_split_ohencoded\n",
    "df.head()\n",
    "\n"
   ]
  },
  {
   "cell_type": "code",
   "execution_count": 8,
   "id": "e38dcca5",
   "metadata": {
    "execution": {
     "iopub.execute_input": "2023-08-28T08:51:38.532798Z",
     "iopub.status.busy": "2023-08-28T08:51:38.532391Z",
     "iopub.status.idle": "2023-08-28T08:51:38.552341Z",
     "shell.execute_reply": "2023-08-28T08:51:38.551339Z"
    },
    "papermill": {
     "duration": 0.026584,
     "end_time": "2023-08-28T08:51:38.554154",
     "exception": false,
     "start_time": "2023-08-28T08:51:38.527570",
     "status": "completed"
    },
    "tags": []
   },
   "outputs": [
    {
     "name": "stdout",
     "output_type": "stream",
     "text": [
      "<class 'pandas.core.frame.DataFrame'>\n",
      "RangeIndex: 70692 entries, 0 to 70691\n",
      "Data columns (total 25 columns):\n",
      " #   Column                Non-Null Count  Dtype  \n",
      "---  ------                --------------  -----  \n",
      " 0   Diabetes_binary       70692 non-null  float64\n",
      " 1   HighBP                70692 non-null  float64\n",
      " 2   HighChol              70692 non-null  float64\n",
      " 3   CholCheck             70692 non-null  float64\n",
      " 4   Smoker                70692 non-null  float64\n",
      " 5   Stroke                70692 non-null  float64\n",
      " 6   HeartDiseaseorAttack  70692 non-null  float64\n",
      " 7   PhysActivity          70692 non-null  float64\n",
      " 8   Fruits                70692 non-null  float64\n",
      " 9   Veggies               70692 non-null  float64\n",
      " 10  HvyAlcoholConsump     70692 non-null  float64\n",
      " 11  AnyHealthcare         70692 non-null  float64\n",
      " 12  NoDocbcCost           70692 non-null  float64\n",
      " 13  GenHlth               70692 non-null  float64\n",
      " 14  MentHlth              70692 non-null  float64\n",
      " 15  PhysHlth              70692 non-null  float64\n",
      " 16  DiffWalk              70692 non-null  float64\n",
      " 17  Sex                   70692 non-null  float64\n",
      " 18  Age                   70692 non-null  float64\n",
      " 19  Education             70692 non-null  float64\n",
      " 20  Income                70692 non-null  float64\n",
      " 21  BMI_Healthy weight    70692 non-null  float64\n",
      " 22  BMI_Obese             70692 non-null  float64\n",
      " 23  BMI_Overweight        70692 non-null  float64\n",
      " 24  BMI_Underweight       70692 non-null  float64\n",
      "dtypes: float64(25)\n",
      "memory usage: 13.5 MB\n"
     ]
    }
   ],
   "source": [
    "df.info()\n"
   ]
  }
 ],
 "metadata": {
  "kernelspec": {
   "display_name": "Python 3",
   "language": "python",
   "name": "python3"
  },
  "language_info": {
   "codemirror_mode": {
    "name": "ipython",
    "version": 3
   },
   "file_extension": ".py",
   "mimetype": "text/x-python",
   "name": "python",
   "nbconvert_exporter": "python",
   "pygments_lexer": "ipython3",
   "version": "3.10.12"
  },
  "papermill": {
   "default_parameters": {},
   "duration": 11.546232,
   "end_time": "2023-08-28T08:51:39.479426",
   "environment_variables": {},
   "exception": null,
   "input_path": "__notebook__.ipynb",
   "output_path": "__notebook__.ipynb",
   "parameters": {},
   "start_time": "2023-08-28T08:51:27.933194",
   "version": "2.4.0"
  }
 },
 "nbformat": 4,
 "nbformat_minor": 5
}
