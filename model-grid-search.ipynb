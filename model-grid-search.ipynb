{
 "cells": [
  {
   "cell_type": "code",
   "execution_count": 1,
   "id": "fb8a7ac6",
   "metadata": {
    "_cell_guid": "b1076dfc-b9ad-4769-8c92-a6c4dae69d19",
    "_uuid": "8f2839f25d086af736a60e9eeb907d3b93b6e0e5",
    "execution": {
     "iopub.execute_input": "2023-08-29T09:48:02.097172Z",
     "iopub.status.busy": "2023-08-29T09:48:02.096771Z",
     "iopub.status.idle": "2023-08-29T09:48:02.126048Z",
     "shell.execute_reply": "2023-08-29T09:48:02.125022Z"
    },
    "papermill": {
     "duration": 0.038166,
     "end_time": "2023-08-29T09:48:02.128509",
     "exception": false,
     "start_time": "2023-08-29T09:48:02.090343",
     "status": "completed"
    },
    "tags": []
   },
   "outputs": [
    {
     "name": "stdout",
     "output_type": "stream",
     "text": [
      "/kaggle/input/diabetes-health-indicators-dataset/diabetes_binary_5050split_health_indicators_BRFSS2015.csv\n",
      "/kaggle/input/diabetes-health-indicators-dataset/diabetes_binary_health_indicators_BRFSS2015.csv\n",
      "/kaggle/input/diabetes-health-indicators-dataset/diabetes_012_health_indicators_BRFSS2015.csv\n"
     ]
    }
   ],
   "source": [
    "# This Python 3 environment comes with many helpful analytics libraries installed\n",
    "# It is defined by the kaggle/python Docker image: https://github.com/kaggle/docker-python\n",
    "# For example, here's several helpful packages to load\n",
    "\n",
    "import numpy as np # linear algebra\n",
    "import pandas as pd # data processing, CSV file I/O (e.g. pd.read_csv)\n",
    "\n",
    "# Input data files are available in the read-only \"../input/\" directory\n",
    "# For example, running this (by clicking run or pressing Shift+Enter) will list all files under the input directory\n",
    "\n",
    "import os\n",
    "for dirname, _, filenames in os.walk('/kaggle/input'):\n",
    "    for filename in filenames:\n",
    "        print(os.path.join(dirname, filename))\n",
    "\n",
    "# You can write up to 20GB to the current directory (/kaggle/working/) that gets preserved as output when you create a version using \"Save & Run All\" \n",
    "# You can also write temporary files to /kaggle/temp/, but they won't be saved outside of the current session"
   ]
  },
  {
   "cell_type": "markdown",
   "id": "38575fb5",
   "metadata": {
    "papermill": {
     "duration": 0.004019,
     "end_time": "2023-08-29T09:48:02.137149",
     "exception": false,
     "start_time": "2023-08-29T09:48:02.133130",
     "status": "completed"
    },
    "tags": []
   },
   "source": [
    "# PLAN OF WORK\n",
    "\n",
    "1. BMI ---> categorical (bins)\n",
    "2. scale data (StandardScaler)\n",
    "3. EDA:\n",
    "    - correlation etc.\n",
    "  \n"
   ]
  },
  {
   "cell_type": "markdown",
   "id": "c8ff005f",
   "metadata": {
    "papermill": {
     "duration": 0.003969,
     "end_time": "2023-08-29T09:48:02.145560",
     "exception": false,
     "start_time": "2023-08-29T09:48:02.141591",
     "status": "completed"
    },
    "tags": []
   },
   "source": [
    "# Data preparation\n",
    "\n",
    "## Changing continuous feature into a bunch of binary ones (continuous -> categories -> one hot encoding)"
   ]
  },
  {
   "cell_type": "markdown",
   "id": "6edac768",
   "metadata": {
    "papermill": {
     "duration": 0.00393,
     "end_time": "2023-08-29T09:48:02.153719",
     "exception": false,
     "start_time": "2023-08-29T09:48:02.149789",
     "status": "completed"
    },
    "tags": []
   },
   "source": [
    "### Module imports"
   ]
  },
  {
   "cell_type": "code",
   "execution_count": 2,
   "id": "3909290f",
   "metadata": {
    "execution": {
     "iopub.execute_input": "2023-08-29T09:48:02.164133Z",
     "iopub.status.busy": "2023-08-29T09:48:02.163750Z",
     "iopub.status.idle": "2023-08-29T09:48:03.375662Z",
     "shell.execute_reply": "2023-08-29T09:48:03.374285Z"
    },
    "papermill": {
     "duration": 1.220804,
     "end_time": "2023-08-29T09:48:03.378775",
     "exception": false,
     "start_time": "2023-08-29T09:48:02.157971",
     "status": "completed"
    },
    "tags": []
   },
   "outputs": [
    {
     "name": "stderr",
     "output_type": "stream",
     "text": [
      "/opt/conda/lib/python3.10/site-packages/scipy/__init__.py:146: UserWarning: A NumPy version >=1.16.5 and <1.23.0 is required for this version of SciPy (detected version 1.23.5\n",
      "  warnings.warn(f\"A NumPy version >={np_minversion} and <{np_maxversion}\"\n"
     ]
    }
   ],
   "source": [
    "from sklearn.preprocessing import OneHotEncoder\n",
    "from pandas import DataFrame, Series\n",
    "from typing import Union, Literal"
   ]
  },
  {
   "cell_type": "markdown",
   "id": "4efa097b",
   "metadata": {
    "papermill": {
     "duration": 0.004157,
     "end_time": "2023-08-29T09:48:03.387474",
     "exception": false,
     "start_time": "2023-08-29T09:48:03.383317",
     "status": "completed"
    },
    "tags": []
   },
   "source": [
    "### Continuous -> discrete"
   ]
  },
  {
   "cell_type": "code",
   "execution_count": 3,
   "id": "045f29d9",
   "metadata": {
    "execution": {
     "iopub.execute_input": "2023-08-29T09:48:03.397877Z",
     "iopub.status.busy": "2023-08-29T09:48:03.397483Z",
     "iopub.status.idle": "2023-08-29T09:48:03.406084Z",
     "shell.execute_reply": "2023-08-29T09:48:03.404986Z"
    },
    "papermill": {
     "duration": 0.016159,
     "end_time": "2023-08-29T09:48:03.408118",
     "exception": false,
     "start_time": "2023-08-29T09:48:03.391959",
     "status": "completed"
    },
    "tags": []
   },
   "outputs": [],
   "source": [
    "def convertBMIIndexToObesityCategory(bmi_index: float, log_warnings: bool = False) -> Literal[\"Underweight\", \"Healthy weight\",\"Overweight\",\"Obese\"]:\n",
    "    \"\"\"\n",
    "    Converts BMI index to a corresponding obesity category.\n",
    "    \"\"\"\n",
    "    if bmi_index < 9 and log_warnings:\n",
    "         print(f\"Very low BMI index encountered: {bmi_index}.\")\n",
    "    if bmi_index < 18.5:\n",
    "        return \"Underweight\"\n",
    "    if bmi_index < 24.9:\n",
    "        return \"Healthy weight\"\n",
    "    if bmi_index < 29.9:\n",
    "         return \"Overweight\"\n",
    "    if bmi_index > 186 and log_warnings:\n",
    "         print(f\"Very high BMI index encountered: {bmi_index}.\")\n",
    "    return \"Obese\"\n",
    "    \n",
    "def convertBMIIndexColumnToObesityCategories(bmi_column: Series) -> Series:\n",
    "    \"\"\"\n",
    "    Converts BMI indices in column to obesity category.\n",
    "    \"\"\"\n",
    "    category_list = [None] * len(bmi_column)\n",
    "    for sample_index, bmi_index in enumerate(bmi_column):\n",
    "        category_list[sample_index] = convertBMIIndexToObesityCategory(bmi_index, log_warnings = True)\n",
    "    return Series(category_list, dtype = 'category')"
   ]
  },
  {
   "cell_type": "markdown",
   "id": "63407250",
   "metadata": {
    "papermill": {
     "duration": 0.004078,
     "end_time": "2023-08-29T09:48:03.416857",
     "exception": false,
     "start_time": "2023-08-29T09:48:03.412779",
     "status": "completed"
    },
    "tags": []
   },
   "source": [
    "### Discrete -> one-hot encoded"
   ]
  },
  {
   "cell_type": "code",
   "execution_count": 4,
   "id": "29358c8b",
   "metadata": {
    "execution": {
     "iopub.execute_input": "2023-08-29T09:48:03.427193Z",
     "iopub.status.busy": "2023-08-29T09:48:03.426772Z",
     "iopub.status.idle": "2023-08-29T09:48:03.434485Z",
     "shell.execute_reply": "2023-08-29T09:48:03.433401Z"
    },
    "papermill": {
     "duration": 0.015273,
     "end_time": "2023-08-29T09:48:03.436481",
     "exception": false,
     "start_time": "2023-08-29T09:48:03.421208",
     "status": "completed"
    },
    "tags": []
   },
   "outputs": [],
   "source": [
    "def oneHotEncodeBMIColumn(dataset: DataFrame, feature_column_name: str) -> DataFrame:\n",
    "    \"\"\"\n",
    "    Converts BMI column in dataset into series of one hot encoded obesity categories.\n",
    "    ---\n",
    "    Parameters:\n",
    "    \n",
    "    - `dataset`: DataFrame that contains column to be converted.\n",
    "    - `feature_column_index`: index of feature's column.\n",
    "    \n",
    "    Returns:\n",
    "    \n",
    "    A DataFrame with selected column categorized and one hot encoded.\n",
    "    \"\"\"\n",
    "    dataset_has_correct_type: bool = isinstance(dataset, DataFrame)\n",
    "    if not dataset_has_correct_type:\n",
    "        dataset_type_name = type(dataset)\n",
    "        raise TypeError(\"Dataset has incorrect type; use pandas.DataFrame.\")\n",
    "    try:\n",
    "        dataset[feature_column_name]\n",
    "    except KeyError:\n",
    "        raise IndexError(f\"Incorrect feature column name: {feature_column_name}\")\n",
    "    dataset[feature_column_name] = convertBMIIndexColumnToObesityCategories(dataset[feature_column_name])\n",
    "    encoder = OneHotEncoder(sparse_output = False)\n",
    "    feature_encoded = DataFrame(encoder.fit_transform(dataset[[feature_column_name]]))\n",
    "    feature_encoded.columns = encoder.get_feature_names_out([feature_column_name])\n",
    "    dataset.drop([feature_column_name], axis = 1, inplace = True)\n",
    "    return (pd.concat([dataset, feature_encoded], axis=1))"
   ]
  },
  {
   "cell_type": "code",
   "execution_count": 5,
   "id": "276891bf",
   "metadata": {
    "execution": {
     "iopub.execute_input": "2023-08-29T09:48:03.447420Z",
     "iopub.status.busy": "2023-08-29T09:48:03.446764Z",
     "iopub.status.idle": "2023-08-29T09:48:03.791895Z",
     "shell.execute_reply": "2023-08-29T09:48:03.790377Z"
    },
    "papermill": {
     "duration": 0.353296,
     "end_time": "2023-08-29T09:48:03.794248",
     "exception": false,
     "start_time": "2023-08-29T09:48:03.440952",
     "status": "completed"
    },
    "tags": []
   },
   "outputs": [
    {
     "name": "stdout",
     "output_type": "stream",
     "text": [
      "   Diabetes_binary  HighBP  HighChol  CholCheck         BMI  Smoker  Stroke  \\\n",
      "0              0.0     1.0       0.0        1.0  Overweight     0.0     0.0   \n",
      "1              0.0     1.0       1.0        1.0  Overweight     1.0     1.0   \n",
      "2              0.0     0.0       0.0        1.0  Overweight     0.0     0.0   \n",
      "3              0.0     1.0       1.0        1.0  Overweight     1.0     0.0   \n",
      "4              0.0     0.0       0.0        1.0  Overweight     1.0     0.0   \n",
      "\n",
      "   HeartDiseaseorAttack  PhysActivity  Fruits  ...  AnyHealthcare  \\\n",
      "0                   0.0           1.0     0.0  ...            1.0   \n",
      "1                   0.0           0.0     1.0  ...            1.0   \n",
      "2                   0.0           1.0     1.0  ...            1.0   \n",
      "3                   0.0           1.0     1.0  ...            1.0   \n",
      "4                   0.0           1.0     1.0  ...            1.0   \n",
      "\n",
      "   NoDocbcCost  GenHlth  MentHlth  PhysHlth  DiffWalk  Sex   Age  Education  \\\n",
      "0          0.0      3.0       5.0      30.0       0.0  1.0   4.0        6.0   \n",
      "1          0.0      3.0       0.0       0.0       0.0  1.0  12.0        6.0   \n",
      "2          0.0      1.0       0.0      10.0       0.0  1.0  13.0        6.0   \n",
      "3          0.0      3.0       0.0       3.0       0.0  1.0  11.0        6.0   \n",
      "4          0.0      2.0       0.0       0.0       0.0  0.0   8.0        5.0   \n",
      "\n",
      "   Income  \n",
      "0     8.0  \n",
      "1     8.0  \n",
      "2     8.0  \n",
      "3     8.0  \n",
      "4     8.0  \n",
      "\n",
      "[5 rows x 22 columns]\n"
     ]
    }
   ],
   "source": [
    "# Data import and preprocessing\n",
    "\n",
    "diabetes_dataset_5050_split = pd.read_csv(\"/kaggle/input/diabetes-health-indicators-dataset/diabetes_binary_5050split_health_indicators_BRFSS2015.csv\")\n",
    "diabetes_dataset_5050_split[\"BMI\"] = convertBMIIndexColumnToObesityCategories(diabetes_dataset_5050_split[\"BMI\"])\n",
    "\n",
    "print(diabetes_dataset_5050_split.head())"
   ]
  },
  {
   "cell_type": "code",
   "execution_count": 6,
   "id": "84dc4f83",
   "metadata": {
    "execution": {
     "iopub.execute_input": "2023-08-29T09:48:03.806946Z",
     "iopub.status.busy": "2023-08-29T09:48:03.805991Z",
     "iopub.status.idle": "2023-08-29T09:48:04.304962Z",
     "shell.execute_reply": "2023-08-29T09:48:04.303864Z"
    },
    "papermill": {
     "duration": 0.50772,
     "end_time": "2023-08-29T09:48:04.307912",
     "exception": false,
     "start_time": "2023-08-29T09:48:03.800192",
     "status": "completed"
    },
    "tags": []
   },
   "outputs": [],
   "source": [
    "import numpy as np\n",
    "import pandas as pd\n",
    "import seaborn as sns\n",
    "import matplotlib.pyplot as plt"
   ]
  },
  {
   "cell_type": "code",
   "execution_count": 7,
   "id": "db173663",
   "metadata": {
    "execution": {
     "iopub.execute_input": "2023-08-29T09:48:04.321294Z",
     "iopub.status.busy": "2023-08-29T09:48:04.319978Z",
     "iopub.status.idle": "2023-08-29T09:48:04.357731Z",
     "shell.execute_reply": "2023-08-29T09:48:04.356698Z"
    },
    "papermill": {
     "duration": 0.046045,
     "end_time": "2023-08-29T09:48:04.359938",
     "exception": false,
     "start_time": "2023-08-29T09:48:04.313893",
     "status": "completed"
    },
    "tags": []
   },
   "outputs": [
    {
     "data": {
      "text/html": [
       "<div>\n",
       "<style scoped>\n",
       "    .dataframe tbody tr th:only-of-type {\n",
       "        vertical-align: middle;\n",
       "    }\n",
       "\n",
       "    .dataframe tbody tr th {\n",
       "        vertical-align: top;\n",
       "    }\n",
       "\n",
       "    .dataframe thead th {\n",
       "        text-align: right;\n",
       "    }\n",
       "</style>\n",
       "<table border=\"1\" class=\"dataframe\">\n",
       "  <thead>\n",
       "    <tr style=\"text-align: right;\">\n",
       "      <th></th>\n",
       "      <th>Diabetes_binary</th>\n",
       "      <th>HighBP</th>\n",
       "      <th>HighChol</th>\n",
       "      <th>CholCheck</th>\n",
       "      <th>BMI</th>\n",
       "      <th>Smoker</th>\n",
       "      <th>Stroke</th>\n",
       "      <th>HeartDiseaseorAttack</th>\n",
       "      <th>PhysActivity</th>\n",
       "      <th>Fruits</th>\n",
       "      <th>...</th>\n",
       "      <th>AnyHealthcare</th>\n",
       "      <th>NoDocbcCost</th>\n",
       "      <th>GenHlth</th>\n",
       "      <th>MentHlth</th>\n",
       "      <th>PhysHlth</th>\n",
       "      <th>DiffWalk</th>\n",
       "      <th>Sex</th>\n",
       "      <th>Age</th>\n",
       "      <th>Education</th>\n",
       "      <th>Income</th>\n",
       "    </tr>\n",
       "  </thead>\n",
       "  <tbody>\n",
       "    <tr>\n",
       "      <th>0</th>\n",
       "      <td>0.0</td>\n",
       "      <td>1.0</td>\n",
       "      <td>0.0</td>\n",
       "      <td>1.0</td>\n",
       "      <td>Overweight</td>\n",
       "      <td>0.0</td>\n",
       "      <td>0.0</td>\n",
       "      <td>0.0</td>\n",
       "      <td>1.0</td>\n",
       "      <td>0.0</td>\n",
       "      <td>...</td>\n",
       "      <td>1.0</td>\n",
       "      <td>0.0</td>\n",
       "      <td>3.0</td>\n",
       "      <td>5.0</td>\n",
       "      <td>30.0</td>\n",
       "      <td>0.0</td>\n",
       "      <td>1.0</td>\n",
       "      <td>4.0</td>\n",
       "      <td>6.0</td>\n",
       "      <td>8.0</td>\n",
       "    </tr>\n",
       "    <tr>\n",
       "      <th>1</th>\n",
       "      <td>0.0</td>\n",
       "      <td>1.0</td>\n",
       "      <td>1.0</td>\n",
       "      <td>1.0</td>\n",
       "      <td>Overweight</td>\n",
       "      <td>1.0</td>\n",
       "      <td>1.0</td>\n",
       "      <td>0.0</td>\n",
       "      <td>0.0</td>\n",
       "      <td>1.0</td>\n",
       "      <td>...</td>\n",
       "      <td>1.0</td>\n",
       "      <td>0.0</td>\n",
       "      <td>3.0</td>\n",
       "      <td>0.0</td>\n",
       "      <td>0.0</td>\n",
       "      <td>0.0</td>\n",
       "      <td>1.0</td>\n",
       "      <td>12.0</td>\n",
       "      <td>6.0</td>\n",
       "      <td>8.0</td>\n",
       "    </tr>\n",
       "    <tr>\n",
       "      <th>2</th>\n",
       "      <td>0.0</td>\n",
       "      <td>0.0</td>\n",
       "      <td>0.0</td>\n",
       "      <td>1.0</td>\n",
       "      <td>Overweight</td>\n",
       "      <td>0.0</td>\n",
       "      <td>0.0</td>\n",
       "      <td>0.0</td>\n",
       "      <td>1.0</td>\n",
       "      <td>1.0</td>\n",
       "      <td>...</td>\n",
       "      <td>1.0</td>\n",
       "      <td>0.0</td>\n",
       "      <td>1.0</td>\n",
       "      <td>0.0</td>\n",
       "      <td>10.0</td>\n",
       "      <td>0.0</td>\n",
       "      <td>1.0</td>\n",
       "      <td>13.0</td>\n",
       "      <td>6.0</td>\n",
       "      <td>8.0</td>\n",
       "    </tr>\n",
       "    <tr>\n",
       "      <th>3</th>\n",
       "      <td>0.0</td>\n",
       "      <td>1.0</td>\n",
       "      <td>1.0</td>\n",
       "      <td>1.0</td>\n",
       "      <td>Overweight</td>\n",
       "      <td>1.0</td>\n",
       "      <td>0.0</td>\n",
       "      <td>0.0</td>\n",
       "      <td>1.0</td>\n",
       "      <td>1.0</td>\n",
       "      <td>...</td>\n",
       "      <td>1.0</td>\n",
       "      <td>0.0</td>\n",
       "      <td>3.0</td>\n",
       "      <td>0.0</td>\n",
       "      <td>3.0</td>\n",
       "      <td>0.0</td>\n",
       "      <td>1.0</td>\n",
       "      <td>11.0</td>\n",
       "      <td>6.0</td>\n",
       "      <td>8.0</td>\n",
       "    </tr>\n",
       "    <tr>\n",
       "      <th>4</th>\n",
       "      <td>0.0</td>\n",
       "      <td>0.0</td>\n",
       "      <td>0.0</td>\n",
       "      <td>1.0</td>\n",
       "      <td>Overweight</td>\n",
       "      <td>1.0</td>\n",
       "      <td>0.0</td>\n",
       "      <td>0.0</td>\n",
       "      <td>1.0</td>\n",
       "      <td>1.0</td>\n",
       "      <td>...</td>\n",
       "      <td>1.0</td>\n",
       "      <td>0.0</td>\n",
       "      <td>2.0</td>\n",
       "      <td>0.0</td>\n",
       "      <td>0.0</td>\n",
       "      <td>0.0</td>\n",
       "      <td>0.0</td>\n",
       "      <td>8.0</td>\n",
       "      <td>5.0</td>\n",
       "      <td>8.0</td>\n",
       "    </tr>\n",
       "  </tbody>\n",
       "</table>\n",
       "<p>5 rows × 22 columns</p>\n",
       "</div>"
      ],
      "text/plain": [
       "   Diabetes_binary  HighBP  HighChol  CholCheck         BMI  Smoker  Stroke  \\\n",
       "0              0.0     1.0       0.0        1.0  Overweight     0.0     0.0   \n",
       "1              0.0     1.0       1.0        1.0  Overweight     1.0     1.0   \n",
       "2              0.0     0.0       0.0        1.0  Overweight     0.0     0.0   \n",
       "3              0.0     1.0       1.0        1.0  Overweight     1.0     0.0   \n",
       "4              0.0     0.0       0.0        1.0  Overweight     1.0     0.0   \n",
       "\n",
       "   HeartDiseaseorAttack  PhysActivity  Fruits  ...  AnyHealthcare  \\\n",
       "0                   0.0           1.0     0.0  ...            1.0   \n",
       "1                   0.0           0.0     1.0  ...            1.0   \n",
       "2                   0.0           1.0     1.0  ...            1.0   \n",
       "3                   0.0           1.0     1.0  ...            1.0   \n",
       "4                   0.0           1.0     1.0  ...            1.0   \n",
       "\n",
       "   NoDocbcCost  GenHlth  MentHlth  PhysHlth  DiffWalk  Sex   Age  Education  \\\n",
       "0          0.0      3.0       5.0      30.0       0.0  1.0   4.0        6.0   \n",
       "1          0.0      3.0       0.0       0.0       0.0  1.0  12.0        6.0   \n",
       "2          0.0      1.0       0.0      10.0       0.0  1.0  13.0        6.0   \n",
       "3          0.0      3.0       0.0       3.0       0.0  1.0  11.0        6.0   \n",
       "4          0.0      2.0       0.0       0.0       0.0  0.0   8.0        5.0   \n",
       "\n",
       "   Income  \n",
       "0     8.0  \n",
       "1     8.0  \n",
       "2     8.0  \n",
       "3     8.0  \n",
       "4     8.0  \n",
       "\n",
       "[5 rows x 22 columns]"
      ]
     },
     "execution_count": 7,
     "metadata": {},
     "output_type": "execute_result"
    }
   ],
   "source": [
    "df = diabetes_dataset_5050_split\n",
    "df.head()\n",
    "\n"
   ]
  },
  {
   "cell_type": "code",
   "execution_count": 8,
   "id": "d06fb8fa",
   "metadata": {
    "execution": {
     "iopub.execute_input": "2023-08-29T09:48:04.372375Z",
     "iopub.status.busy": "2023-08-29T09:48:04.371441Z",
     "iopub.status.idle": "2023-08-29T09:48:04.414116Z",
     "shell.execute_reply": "2023-08-29T09:48:04.413300Z"
    },
    "papermill": {
     "duration": 0.053288,
     "end_time": "2023-08-29T09:48:04.418341",
     "exception": false,
     "start_time": "2023-08-29T09:48:04.365053",
     "status": "completed"
    },
    "tags": []
   },
   "outputs": [
    {
     "data": {
      "text/html": [
       "<div>\n",
       "<style scoped>\n",
       "    .dataframe tbody tr th:only-of-type {\n",
       "        vertical-align: middle;\n",
       "    }\n",
       "\n",
       "    .dataframe tbody tr th {\n",
       "        vertical-align: top;\n",
       "    }\n",
       "\n",
       "    .dataframe thead th {\n",
       "        text-align: right;\n",
       "    }\n",
       "</style>\n",
       "<table border=\"1\" class=\"dataframe\">\n",
       "  <thead>\n",
       "    <tr style=\"text-align: right;\">\n",
       "      <th></th>\n",
       "      <th>Diabetes_binary</th>\n",
       "      <th>HighBP</th>\n",
       "      <th>HighChol</th>\n",
       "      <th>CholCheck</th>\n",
       "      <th>BMI</th>\n",
       "      <th>Smoker</th>\n",
       "      <th>Stroke</th>\n",
       "      <th>HeartDiseaseorAttack</th>\n",
       "      <th>PhysActivity</th>\n",
       "      <th>Fruits</th>\n",
       "      <th>...</th>\n",
       "      <th>NoDocbcCost</th>\n",
       "      <th>GenHlth</th>\n",
       "      <th>MentHlth</th>\n",
       "      <th>PhysHlth</th>\n",
       "      <th>DiffWalk</th>\n",
       "      <th>Sex</th>\n",
       "      <th>Age</th>\n",
       "      <th>Education</th>\n",
       "      <th>Income</th>\n",
       "      <th>BMI_Encoded</th>\n",
       "    </tr>\n",
       "  </thead>\n",
       "  <tbody>\n",
       "    <tr>\n",
       "      <th>0</th>\n",
       "      <td>0.0</td>\n",
       "      <td>1.0</td>\n",
       "      <td>0.0</td>\n",
       "      <td>1.0</td>\n",
       "      <td>Overweight</td>\n",
       "      <td>0.0</td>\n",
       "      <td>0.0</td>\n",
       "      <td>0.0</td>\n",
       "      <td>1.0</td>\n",
       "      <td>0.0</td>\n",
       "      <td>...</td>\n",
       "      <td>0.0</td>\n",
       "      <td>3.0</td>\n",
       "      <td>5.0</td>\n",
       "      <td>30.0</td>\n",
       "      <td>0.0</td>\n",
       "      <td>1.0</td>\n",
       "      <td>4.0</td>\n",
       "      <td>6.0</td>\n",
       "      <td>8.0</td>\n",
       "      <td>3.0</td>\n",
       "    </tr>\n",
       "    <tr>\n",
       "      <th>1</th>\n",
       "      <td>0.0</td>\n",
       "      <td>1.0</td>\n",
       "      <td>1.0</td>\n",
       "      <td>1.0</td>\n",
       "      <td>Overweight</td>\n",
       "      <td>1.0</td>\n",
       "      <td>1.0</td>\n",
       "      <td>0.0</td>\n",
       "      <td>0.0</td>\n",
       "      <td>1.0</td>\n",
       "      <td>...</td>\n",
       "      <td>0.0</td>\n",
       "      <td>3.0</td>\n",
       "      <td>0.0</td>\n",
       "      <td>0.0</td>\n",
       "      <td>0.0</td>\n",
       "      <td>1.0</td>\n",
       "      <td>12.0</td>\n",
       "      <td>6.0</td>\n",
       "      <td>8.0</td>\n",
       "      <td>3.0</td>\n",
       "    </tr>\n",
       "    <tr>\n",
       "      <th>2</th>\n",
       "      <td>0.0</td>\n",
       "      <td>0.0</td>\n",
       "      <td>0.0</td>\n",
       "      <td>1.0</td>\n",
       "      <td>Overweight</td>\n",
       "      <td>0.0</td>\n",
       "      <td>0.0</td>\n",
       "      <td>0.0</td>\n",
       "      <td>1.0</td>\n",
       "      <td>1.0</td>\n",
       "      <td>...</td>\n",
       "      <td>0.0</td>\n",
       "      <td>1.0</td>\n",
       "      <td>0.0</td>\n",
       "      <td>10.0</td>\n",
       "      <td>0.0</td>\n",
       "      <td>1.0</td>\n",
       "      <td>13.0</td>\n",
       "      <td>6.0</td>\n",
       "      <td>8.0</td>\n",
       "      <td>3.0</td>\n",
       "    </tr>\n",
       "    <tr>\n",
       "      <th>3</th>\n",
       "      <td>0.0</td>\n",
       "      <td>1.0</td>\n",
       "      <td>1.0</td>\n",
       "      <td>1.0</td>\n",
       "      <td>Overweight</td>\n",
       "      <td>1.0</td>\n",
       "      <td>0.0</td>\n",
       "      <td>0.0</td>\n",
       "      <td>1.0</td>\n",
       "      <td>1.0</td>\n",
       "      <td>...</td>\n",
       "      <td>0.0</td>\n",
       "      <td>3.0</td>\n",
       "      <td>0.0</td>\n",
       "      <td>3.0</td>\n",
       "      <td>0.0</td>\n",
       "      <td>1.0</td>\n",
       "      <td>11.0</td>\n",
       "      <td>6.0</td>\n",
       "      <td>8.0</td>\n",
       "      <td>3.0</td>\n",
       "    </tr>\n",
       "    <tr>\n",
       "      <th>4</th>\n",
       "      <td>0.0</td>\n",
       "      <td>0.0</td>\n",
       "      <td>0.0</td>\n",
       "      <td>1.0</td>\n",
       "      <td>Overweight</td>\n",
       "      <td>1.0</td>\n",
       "      <td>0.0</td>\n",
       "      <td>0.0</td>\n",
       "      <td>1.0</td>\n",
       "      <td>1.0</td>\n",
       "      <td>...</td>\n",
       "      <td>0.0</td>\n",
       "      <td>2.0</td>\n",
       "      <td>0.0</td>\n",
       "      <td>0.0</td>\n",
       "      <td>0.0</td>\n",
       "      <td>0.0</td>\n",
       "      <td>8.0</td>\n",
       "      <td>5.0</td>\n",
       "      <td>8.0</td>\n",
       "      <td>3.0</td>\n",
       "    </tr>\n",
       "  </tbody>\n",
       "</table>\n",
       "<p>5 rows × 23 columns</p>\n",
       "</div>"
      ],
      "text/plain": [
       "   Diabetes_binary  HighBP  HighChol  CholCheck         BMI  Smoker  Stroke  \\\n",
       "0              0.0     1.0       0.0        1.0  Overweight     0.0     0.0   \n",
       "1              0.0     1.0       1.0        1.0  Overweight     1.0     1.0   \n",
       "2              0.0     0.0       0.0        1.0  Overweight     0.0     0.0   \n",
       "3              0.0     1.0       1.0        1.0  Overweight     1.0     0.0   \n",
       "4              0.0     0.0       0.0        1.0  Overweight     1.0     0.0   \n",
       "\n",
       "   HeartDiseaseorAttack  PhysActivity  Fruits  ...  NoDocbcCost  GenHlth  \\\n",
       "0                   0.0           1.0     0.0  ...          0.0      3.0   \n",
       "1                   0.0           0.0     1.0  ...          0.0      3.0   \n",
       "2                   0.0           1.0     1.0  ...          0.0      1.0   \n",
       "3                   0.0           1.0     1.0  ...          0.0      3.0   \n",
       "4                   0.0           1.0     1.0  ...          0.0      2.0   \n",
       "\n",
       "   MentHlth  PhysHlth  DiffWalk  Sex   Age  Education  Income  BMI_Encoded  \n",
       "0       5.0      30.0       0.0  1.0   4.0        6.0     8.0          3.0  \n",
       "1       0.0       0.0       0.0  1.0  12.0        6.0     8.0          3.0  \n",
       "2       0.0      10.0       0.0  1.0  13.0        6.0     8.0          3.0  \n",
       "3       0.0       3.0       0.0  1.0  11.0        6.0     8.0          3.0  \n",
       "4       0.0       0.0       0.0  0.0   8.0        5.0     8.0          3.0  \n",
       "\n",
       "[5 rows x 23 columns]"
      ]
     },
     "execution_count": 8,
     "metadata": {},
     "output_type": "execute_result"
    }
   ],
   "source": [
    "category_mapping = {\n",
    "    'Underweight': 1,\n",
    "    'Healthy weight': 2,\n",
    "    'Overweight': 3,\n",
    "    'Obese': 4\n",
    "}\n",
    "\n",
    "df['BMI_Encoded'] = df['BMI'].map(category_mapping)\n",
    "df['BMI_Encoded'] = df['BMI_Encoded'].astype(float)\n",
    "df.head()"
   ]
  },
  {
   "cell_type": "code",
   "execution_count": 9,
   "id": "695e7ed3",
   "metadata": {
    "execution": {
     "iopub.execute_input": "2023-08-29T09:48:04.434556Z",
     "iopub.status.busy": "2023-08-29T09:48:04.433526Z",
     "iopub.status.idle": "2023-08-29T09:48:04.443032Z",
     "shell.execute_reply": "2023-08-29T09:48:04.442005Z"
    },
    "papermill": {
     "duration": 0.021575,
     "end_time": "2023-08-29T09:48:04.445757",
     "exception": false,
     "start_time": "2023-08-29T09:48:04.424182",
     "status": "completed"
    },
    "tags": []
   },
   "outputs": [
    {
     "data": {
      "text/plain": [
       "Obese             31444\n",
       "Overweight        24135\n",
       "Healthy weight    14460\n",
       "Underweight         653\n",
       "Name: BMI, dtype: int64"
      ]
     },
     "execution_count": 9,
     "metadata": {},
     "output_type": "execute_result"
    }
   ],
   "source": [
    "df[\"BMI\"].value_counts()\n"
   ]
  },
  {
   "cell_type": "code",
   "execution_count": 10,
   "id": "5a17cc3b",
   "metadata": {
    "execution": {
     "iopub.execute_input": "2023-08-29T09:48:04.460615Z",
     "iopub.status.busy": "2023-08-29T09:48:04.459675Z",
     "iopub.status.idle": "2023-08-29T09:48:04.474745Z",
     "shell.execute_reply": "2023-08-29T09:48:04.473503Z"
    },
    "papermill": {
     "duration": 0.024147,
     "end_time": "2023-08-29T09:48:04.477015",
     "exception": false,
     "start_time": "2023-08-29T09:48:04.452868",
     "status": "completed"
    },
    "tags": []
   },
   "outputs": [
    {
     "data": {
      "text/plain": [
       "4.0    31444\n",
       "3.0    24135\n",
       "2.0    14460\n",
       "1.0      653\n",
       "Name: BMI_Encoded, dtype: int64"
      ]
     },
     "execution_count": 10,
     "metadata": {},
     "output_type": "execute_result"
    }
   ],
   "source": [
    "df[\"BMI_Encoded\"].value_counts()\n"
   ]
  },
  {
   "cell_type": "code",
   "execution_count": 11,
   "id": "53d061db",
   "metadata": {
    "execution": {
     "iopub.execute_input": "2023-08-29T09:48:04.489792Z",
     "iopub.status.busy": "2023-08-29T09:48:04.489308Z",
     "iopub.status.idle": "2023-08-29T09:48:04.501921Z",
     "shell.execute_reply": "2023-08-29T09:48:04.501112Z"
    },
    "papermill": {
     "duration": 0.021615,
     "end_time": "2023-08-29T09:48:04.504035",
     "exception": false,
     "start_time": "2023-08-29T09:48:04.482420",
     "status": "completed"
    },
    "tags": []
   },
   "outputs": [],
   "source": [
    "df = df.drop([\"BMI\"], axis=1)"
   ]
  },
  {
   "cell_type": "code",
   "execution_count": 12,
   "id": "be1e8745",
   "metadata": {
    "execution": {
     "iopub.execute_input": "2023-08-29T09:48:04.517266Z",
     "iopub.status.busy": "2023-08-29T09:48:04.516049Z",
     "iopub.status.idle": "2023-08-29T09:48:04.540622Z",
     "shell.execute_reply": "2023-08-29T09:48:04.538902Z"
    },
    "papermill": {
     "duration": 0.03358,
     "end_time": "2023-08-29T09:48:04.543023",
     "exception": false,
     "start_time": "2023-08-29T09:48:04.509443",
     "status": "completed"
    },
    "tags": []
   },
   "outputs": [
    {
     "name": "stdout",
     "output_type": "stream",
     "text": [
      "<class 'pandas.core.frame.DataFrame'>\n",
      "RangeIndex: 70692 entries, 0 to 70691\n",
      "Data columns (total 22 columns):\n",
      " #   Column                Non-Null Count  Dtype  \n",
      "---  ------                --------------  -----  \n",
      " 0   Diabetes_binary       70692 non-null  float64\n",
      " 1   HighBP                70692 non-null  float64\n",
      " 2   HighChol              70692 non-null  float64\n",
      " 3   CholCheck             70692 non-null  float64\n",
      " 4   Smoker                70692 non-null  float64\n",
      " 5   Stroke                70692 non-null  float64\n",
      " 6   HeartDiseaseorAttack  70692 non-null  float64\n",
      " 7   PhysActivity          70692 non-null  float64\n",
      " 8   Fruits                70692 non-null  float64\n",
      " 9   Veggies               70692 non-null  float64\n",
      " 10  HvyAlcoholConsump     70692 non-null  float64\n",
      " 11  AnyHealthcare         70692 non-null  float64\n",
      " 12  NoDocbcCost           70692 non-null  float64\n",
      " 13  GenHlth               70692 non-null  float64\n",
      " 14  MentHlth              70692 non-null  float64\n",
      " 15  PhysHlth              70692 non-null  float64\n",
      " 16  DiffWalk              70692 non-null  float64\n",
      " 17  Sex                   70692 non-null  float64\n",
      " 18  Age                   70692 non-null  float64\n",
      " 19  Education             70692 non-null  float64\n",
      " 20  Income                70692 non-null  float64\n",
      " 21  BMI_Encoded           70692 non-null  float64\n",
      "dtypes: float64(22)\n",
      "memory usage: 11.9 MB\n"
     ]
    }
   ],
   "source": [
    "df.info()\n"
   ]
  }
 ],
 "metadata": {
  "kernelspec": {
   "display_name": "Python 3",
   "language": "python",
   "name": "python3"
  },
  "language_info": {
   "codemirror_mode": {
    "name": "ipython",
    "version": 3
   },
   "file_extension": ".py",
   "mimetype": "text/x-python",
   "name": "python",
   "nbconvert_exporter": "python",
   "pygments_lexer": "ipython3",
   "version": "3.10.12"
  },
  "papermill": {
   "default_parameters": {},
   "duration": 13.094718,
   "end_time": "2023-08-29T09:48:05.470251",
   "environment_variables": {},
   "exception": null,
   "input_path": "__notebook__.ipynb",
   "output_path": "__notebook__.ipynb",
   "parameters": {},
   "start_time": "2023-08-29T09:47:52.375533",
   "version": "2.4.0"
  }
 },
 "nbformat": 4,
 "nbformat_minor": 5
}
